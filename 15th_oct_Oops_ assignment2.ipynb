{
 "cells": [
  {
   "cell_type": "markdown",
   "id": "77049ff6-2b68-4cd3-8f98-ec98b3bdd7b6",
   "metadata": {},
   "source": [
    "                                                   # Constructor:"
   ]
  },
  {
   "cell_type": "markdown",
   "id": "6edeac1a-e497-417d-9a0c-458aaac6a735",
   "metadata": {},
   "source": [
    "     1. What is a constructor in Python? Explain its purpose and usage."
   ]
  },
  {
   "cell_type": "code",
   "execution_count": 1,
   "id": "a464b578-38e6-4b3a-9125-1b18c29e837e",
   "metadata": {},
   "outputs": [],
   "source": [
    "#The constructor is a method that is called when an object is created. \n",
    "#This method is defined in the class and can be used to initialize basic variables.\n",
    "\n",
    "#purpose:-\n",
    "\n",
    "#If you create four objects, the class constructor is called four times. Every class has a constructor, but its not required to explicitly define it.\n",
    "#Constructors are generally used for instantiating an object. \n",
    "#The task of constructors is to initialize(assign values) to the data members of the class when an object of class is created.\n",
    "#In Python the __init__() method is called the constructor and is always called when an object is created."
   ]
  },
  {
   "cell_type": "markdown",
   "id": "b730a491-1a5d-4bf1-83ce-b79368f3e0f2",
   "metadata": {},
   "source": [
    "         2. Differentiate between a parameterless constructor and a parameterized constructor in Python."
   ]
  },
  {
   "cell_type": "code",
   "execution_count": 2,
   "id": "1ffaecb7-f715-47f6-a016-c3f5bbc38952",
   "metadata": {},
   "outputs": [],
   "source": [
    "#1: parameterless constructor:-\n",
    "\n",
    "#When we want a constructor to do something but none of that is to manipulate values, we can use a parameterless constructor.\n",
    "\n",
    "#Let’s try the previous example with this!\n",
    "\n",
    "#>>> class demo:\n",
    " #      def __init__(self):\n",
    "  #             print(\"Thank you for instantiating me :)\")\n",
    "#>>> d=demo()\n",
    "\n",
    "#Output:-\n",
    "\n",
    "#Thank you for instantiating me \n",
    "\n",
    "\n",
    "#2:- parameterized constructor:-\n",
    "\n",
    "\n",
    "#This lets us set custom values for instance variables. We can have any number of these.\n",
    "\n",
    "#>>> class demo:\n",
    " #      def __init__(self,age,country):\n",
    "#               self.age=age\n",
    "#               self.place=country\n",
    "#       def hello(self):\n",
    "#               print(f\"Hello, I am a {self.age}yo from {self.place}\")\n",
    "#>>> d=demo(22,'Romania')\n",
    "#>>> d.hello()\n",
    "#Output\n",
    "\n",
    "#Hello, I am a 22yo from Romania"
   ]
  },
  {
   "cell_type": "markdown",
   "id": "4fdaa9fc-94be-48b9-aba0-c6e257cc40d5",
   "metadata": {},
   "source": [
    "       3. How do you define a constructor in a Python class? Provide an example."
   ]
  },
  {
   "cell_type": "code",
   "execution_count": 19,
   "id": "90b79eb4-fbf6-41f7-a645-aca1d110884c",
   "metadata": {},
   "outputs": [
    {
     "name": "stdout",
     "output_type": "stream",
     "text": [
      "pwskills\n"
     ]
    }
   ],
   "source": [
    "#construction in python:-\n",
    "\n",
    "#Here are some rules for defining constructors in Python:\n",
    "\n",
    "#The constructor method must be named __init__. This is a special name that is recognized by Python as the constructor method.\n",
    "#The first argument of the constructor method must be self. \n",
    "#This is a reference to the object itself, and it is used to access the object’s attributes and methods.\n",
    "#The constructor method must be defined inside the class definition. It cannot be defined outside the class.\n",
    "#The constructor method is called automatically when an object is created. You don’t need to call it explicitly.\n",
    "#You can define both default and parameterized constructors in a class. \n",
    "#If you define both, the parameterized constructor will be used when you pass arguments to the object constructor, \n",
    "#and the default constructor will be used when you don’t pass any arguments.\n",
    "\n",
    "#example:-\n",
    "class pwskills:\n",
    "\n",
    "\t# default constructor\n",
    "\tdef __init__(self):\n",
    "\t\tself.pw = \"pwskills\"\n",
    "\n",
    "\t# a method for printing data members\n",
    "\tdef print_pw(self):\n",
    "\t\tprint(self.pw)\n",
    "\n",
    "\n",
    "# creating object of the class\n",
    "obj = pwskills()\n",
    "\n",
    "# calling the instance method using the object obj\n",
    "obj.print_pw()\n"
   ]
  },
  {
   "cell_type": "markdown",
   "id": "92f4772e-eff5-46cb-bfd6-5963f58a3ce1",
   "metadata": {},
   "source": [
    "       4. Explain the `__init__` method in Python and its role in constructors."
   ]
  },
  {
   "cell_type": "code",
   "execution_count": 21,
   "id": "db882141-731c-49c9-add7-9f619f8eae70",
   "metadata": {},
   "outputs": [],
   "source": [
    "#The Default __init__ Constructor in C++ and Java. \n",
    "#Constructors are used to initializing the object’s state. \n",
    "#The task of constructors is to initialize(assign values) to the data members of the class when an object of the class is created.\n",
    "#Like methods, a constructor also contains a collection of statements(i.e. instructions) that are executed at the time of Object creation. \n",
    "#It is run as soon as an object of a class is instantiated. The method is useful to do any initialization you want to do with your object."
   ]
  },
  {
   "cell_type": "markdown",
   "id": "39dd3a85-5263-4c77-92dd-fd573949a81c",
   "metadata": {},
   "source": [
    "     5. In a class named `Person`, create a constructor that initializes the `name` and `age` attributes. Provide an\n",
    "      example of creating an object of this class."
   ]
  },
  {
   "cell_type": "code",
   "execution_count": null,
   "id": "f5df4dac-4cff-4c08-bc6c-06c998e9c214",
   "metadata": {},
   "outputs": [
    {
     "name": "stdout",
     "output_type": "stream",
     "text": [
      "bhavesh\n",
      "25\n"
     ]
    }
   ],
   "source": [
    "class person:\n",
    "    def __init__(self,name,age):\n",
    "        self.name = name\n",
    "        self.age = age\n",
    "b=person(25 , 'bhavesh')\n",
    "print(b.age)\n",
    "print(b.name)"
   ]
  },
  {
   "cell_type": "markdown",
   "id": "a87abb41-68dd-4289-b958-73741a939e16",
   "metadata": {},
   "source": [
    "       \n",
    "       6. How can you call a constructor explicitly in Python? Give an example."
   ]
  },
  {
   "cell_type": "code",
   "execution_count": 4,
   "id": "ab443d15-7d4d-4405-b2ab-af678935e938",
   "metadata": {},
   "outputs": [
    {
     "name": "stdout",
     "output_type": "stream",
     "text": [
      "constructor is executed automatically at the time of object creation\n"
     ]
    }
   ],
   "source": [
    "#How do you call a constructor in Python?\n",
    "\n",
    "\n",
    "#Constructors are generally used for instantiating an object. \n",
    "#The task of constructors is to initialize(assign values) to the data members of the class when an object of the class is created. \n",
    "#In Python the __init__() method is called the constructor and is always called when an object is created.\n",
    "\n",
    "#example:-\n",
    "\n",
    "class Employee:\n",
    "    def __init__ (self):\n",
    "        print(\"constructor is executed automatically at the time of object creation\")\n",
    "emp = Employee()"
   ]
  },
  {
   "cell_type": "markdown",
   "id": "f1daca3e-8c8c-420b-b2f0-c9894111b632",
   "metadata": {},
   "source": [
    "     7. What is the significance of the `self` parameter in Python constructors? Explain with an example."
   ]
  },
  {
   "cell_type": "code",
   "execution_count": 6,
   "id": "f25a17f7-0e01-4249-a981-e894a60383bb",
   "metadata": {},
   "outputs": [
    {
     "name": "stdout",
     "output_type": "stream",
     "text": [
      "['__class__', '__delattr__', '__dict__', '__dir__', '__doc__', '__eq__', '__format__', '__ge__', '__getattribute__', '__gt__', '__hash__', '__init__', '__init_subclass__', '__le__', '__lt__', '__module__', '__ne__', '__new__', '__reduce__', '__reduce_ex__', '__repr__', '__setattr__', '__sizeof__', '__str__', '__subclasshook__', '__weakref__', 'sample_method']\n"
     ]
    }
   ],
   "source": [
    "#The self variable is used to represent the instance of the class which is often used in object-oriented programming. \n",
    "#It works as a reference to the object.\n",
    "#Python uses the self parameter to refer to instance attributes and methods of the class.  \n",
    "\n",
    "#Unlike other programming languages, Python does not use the “@” syntax to access the instance attributes.\n",
    "#This is the sole reason why you need to use the self variable in Python. \n",
    "#The language contains methods that allow the instance to be passed automatically but not received automatically.\n",
    "\n",
    "#example:-\n",
    "class democlass:\n",
    "    def sample_method():\n",
    "        print(\"this is the demo method\")\n",
    "print(dir(democlass))        "
   ]
  },
  {
   "cell_type": "markdown",
   "id": "dc78d8f4-4a63-4fe2-ae8d-49795352193d",
   "metadata": {},
   "source": [
    "     8. Discuss the concept of default constructors in Python. When are they used?"
   ]
  },
  {
   "cell_type": "code",
   "execution_count": 49,
   "id": "a48fad3b-e8a7-4e43-bed8-9524e51cdbad",
   "metadata": {},
   "outputs": [],
   "source": [
    "#In Python, there are two types of constructors: Default Constructor: A default constructor is a constructor that takes no arguments. \n",
    "#It is used to create an object with default values for its attributes.\n",
    "#Parameterized Constructor: A parameterized constructor is a constructor that takes one or more arguments."
   ]
  },
  {
   "cell_type": "markdown",
   "id": "477125bd-533c-445d-972f-e919b2ee5002",
   "metadata": {},
   "source": [
    "    9. Create a Python class called `Rectangle` with a constructor that initializes the `width` and `height`\n",
    "     attributes. Provide a method to calculate the area of the rectangle."
   ]
  },
  {
   "cell_type": "code",
   "execution_count": 20,
   "id": "662cee59-0a88-46c6-b6cc-b559c1d7648b",
   "metadata": {},
   "outputs": [
    {
     "name": "stdout",
     "output_type": "stream",
     "text": [
      "The length of the rectangle is : \n",
      "6\n",
      "The breadth of the rectangle is : \n",
      "45\n",
      "The area of the rectangle : \n",
      "270\n",
      "\n"
     ]
    }
   ],
   "source": [
    "#When it is required to find the area of a rectangle using classes, object oriented method is used. \n",
    "#Here, a class is defined, attributes are defined. Functions are defined within the class that perform certain operations. \n",
    "#An instance of the class is created, and the functions are used to find the area of rectangle.\n",
    "\n",
    "#Below is a demonstration for the same −\n",
    "\n",
    "#Example\n",
    " \n",
    "\n",
    "class shape_rectangle():\n",
    "    def __init__(self,my_length, my_breadth):\n",
    "            self.length = my_length\n",
    "            self.breadth = my_breadth\n",
    "    def calculate_area(self):\n",
    "        return self.length*self.breadth\n",
    "len_val = 6\n",
    "bread_val = 45\n",
    "print(\"The length of the rectangle is : \")\n",
    "print(len_val)\n",
    "print(\"The breadth of the rectangle is : \")\n",
    "print(bread_val)\n",
    "my_instance = shape_rectangle(len_val,bread_val)\n",
    "print(\"The area of the rectangle : \")\n",
    "print(my_instance.calculate_area())\n",
    "print()"
   ]
  },
  {
   "cell_type": "markdown",
   "id": "7f74aec9-cb5b-4d05-af32-d3de7114ca4e",
   "metadata": {},
   "source": [
    "    10. How can you have multiple constructors in a Python class? Explain with an example."
   ]
  },
  {
   "cell_type": "code",
   "execution_count": 21,
   "id": "c57379ec-30ad-4438-a5d7-d41381bb6c25",
   "metadata": {},
   "outputs": [
    {
     "name": "stdout",
     "output_type": "stream",
     "text": [
      "Three\n"
     ]
    }
   ],
   "source": [
    "#Python does not support explicit multiple constructors, yet there are some ways using which multiple constructors can be achieved. \n",
    "#If multiple __init__ methods are written for the same class, then the latest one overwrites all the previous constructors \n",
    "#and the reason for this can be, python stores all the function names in a class as key in a dictionary so, \n",
    "#when a new function is defined with the same name, the key remains the same but the value gets overridden by the new function body.\n",
    "\n",
    "#example:_\n",
    "class example:\n",
    "\n",
    "\tdef __init__(self):\n",
    "\t\tprint(\"One\")\n",
    "\n",
    "\tdef __init__(self):\n",
    "\t\tprint(\"Two\")\n",
    "\n",
    "\tdef __init__(self):\n",
    "\t\tprint(\"Three\")\n",
    "\n",
    "\n",
    "e = example()\n"
   ]
  },
  {
   "cell_type": "markdown",
   "id": "402cd10e-0092-4a36-8c77-778603c90122",
   "metadata": {},
   "source": [
    "     11. What is method overloading, and how is it related to constructors in Python?"
   ]
  },
  {
   "cell_type": "code",
   "execution_count": 1,
   "id": "2892d986-0236-4c1c-ae03-ddb7df4003e2",
   "metadata": {},
   "outputs": [],
   "source": [
    "\n",
    "\n",
    "\n",
    "#***Method Overloding :-\n",
    "#>>>Method Overloding is the class having methods that are the same name witrh different arguments\n",
    "#>>>>Arguments different will be based on a number of a aarguments and types of arguments \n",
    "#>>>> it is used in a single class.\n",
    "#\n",
    "\n",
    "#*Method Overloading in Python\n",
    "\n",
    "\n",
    "#Method overloading is one concept of Polymorphism. It comes under the elements of OOPS. It is actually a compile-time polymorphism.\n",
    "#It is worked in the same method names and different arguments. Here in Python also supports oops concepts. But it is not oops based language.\n",
    "#It also supports this method overloading also.\n",
    "\n",
    "#Normally in python, we don’t have the same names for different methods. \n",
    "#But overloading is a method or operator to do the different functionalities with the same name. \n",
    "#i.e methods differ their parameters to pass to the methods whereas operators have differed their operand.\n",
    "\n",
    "#Here some advantages of Method Overloading in Python.\n",
    "\n",
    "#Normally methods are used to reduce complexity. Method overloading is even it reduce more complexity in the program also improves the clarity of code.\n",
    "#It is also used for reusability."
   ]
  },
  {
   "cell_type": "markdown",
   "id": "f9e15f59-404c-4b50-986c-cdc80c5a3877",
   "metadata": {},
   "source": [
    "      12. Explain the use of the `super()` function in Python constructors. Provide an example."
   ]
  },
  {
   "cell_type": "code",
   "execution_count": 3,
   "id": "60e13a0c-81d8-4b4b-8f78-73aefff5f2c5",
   "metadata": {},
   "outputs": [
    {
     "name": "stdout",
     "output_type": "stream",
     "text": [
      "The ID is: 103\n",
      "The Name is: Suraj kr gupta\n",
      "The Address is: Noida\n",
      "The Emails is: KKK@gmails\n"
     ]
    }
   ],
   "source": [
    "#In Python, the super() function is used to refer to the parent class or superclass. \n",
    "#It allows you to call methods defined in the superclass from the subclass, enabling you to extend and customize the functionality inherited\n",
    "#from the parent class.\n",
    "\n",
    "#Syntax of super() in Python\n",
    "#Syntax: super()\n",
    "\n",
    "#Return : Return a proxy object which represents the parent’s class.\n",
    "\n",
    "#super() function in Python Example\n",
    "#In the given example, The Emp class has an __init__ method that initializes the id, and name and Adds attributes.\n",
    "#The Freelance class inherits from the Emp class and adds an additional attribute called Emails. \n",
    "#It calls the parent class’s __init__ method super() to initialize the inherited attribute.\n",
    "\n",
    "\n",
    "#example:-\n",
    "\n",
    "\n",
    "class Emp():\n",
    "\tdef __init__(self, id, name, Add):\n",
    "\t\tself.id = id\n",
    "\t\tself.name = name\n",
    "\t\tself.Add = Add\n",
    "\n",
    "# Class freelancer inherits EMP\n",
    "class Freelance(Emp):\n",
    "\tdef __init__(self, id, name, Add, Emails):\n",
    "\t\tsuper().__init__(id, name, Add)\n",
    "\t\tself.Emails = Emails\n",
    "\n",
    "Emp_1 = Freelance(103, \"Suraj kr gupta\", \"Noida\" , \"KKK@gmails\")\n",
    "print('The ID is:', Emp_1.id)\n",
    "print('The Name is:', Emp_1.name)\n",
    "print('The Address is:', Emp_1.Add)\n",
    "print('The Emails is:', Emp_1.Emails)\n",
    "\n"
   ]
  },
  {
   "cell_type": "markdown",
   "id": "96bf78b0-7568-4e0b-b449-c53b6fe06dee",
   "metadata": {},
   "source": [
    "     13. Create a class called `Book` with a constructor that initializes the `title`, `author`, and `published_year`\n",
    "        attributes. Provide a method to display book details."
   ]
  },
  {
   "cell_type": "code",
   "execution_count": 21,
   "id": "6e65919e-fa0a-4d36-b118-04f96038ab1f",
   "metadata": {},
   "outputs": [],
   "source": [
    "class Book:\n",
    "    def __init__(self, author, title, book_id):\n",
    "        self.author = author\n",
    "        self.title = title\n",
    "        self.book_id = book_id\n",
    "\n",
    "    def __str__(self):\n",
    "        return 'Book(author, title, book_id)'\n",
    "\n",
    "    def __repr__(self):\n",
    "\n",
    "        return 'Book(author, title, book_id)'\n",
    "\n",
    "    def __eq__(self, other):\n",
    "\n",
    "    #Not sure if this is the right approach\n",
    "\n",
    "        for title in Book:\n",
    "            for title in Book:\n",
    "                if title == title:\n",
    "                    if author == author:\n",
    "                        if book_id == book_id:\n",
    "                            return True"
   ]
  },
  {
   "cell_type": "markdown",
   "id": "b49195d7-936c-4bec-88c0-91c4b743a04e",
   "metadata": {},
   "source": [
    "         14. Discuss the differences between constructors and regular methods in Python classes."
   ]
  },
  {
   "cell_type": "code",
   "execution_count": 1,
   "id": "3863be12-131f-46df-85db-472802595b78",
   "metadata": {},
   "outputs": [],
   "source": [
    "#**Constructors:-\n",
    "\n",
    "#>>>A Constructor is a block of code that initializes a newly created object.\n",
    "#>>>A Constructor can be used to initialize an object.\n",
    "#>>>A Constructor is invoked implicitly by the system.\n",
    "#>>>A Constructor is invoked when a object is created using the keyword new.\n",
    "#>>>A Constructor doesn’t have a return type.\n",
    "#>>>A Constructor initializes a object that doesn’t exist.\n",
    "#>>>A Constructor’s name must be same as the name of the class.\n",
    "#>>>A class can have many Constructors but must not have the same parameters.\n",
    "#>>>A Constructor cannot be inherited by subclasses.\n",
    "\n",
    "\n",
    "#***Methods:-\n",
    "\n",
    "#>>>A Method is a collection of statements which returns a value upon its execution.\n",
    "#>>>A Method consists of Java code to be executed.\n",
    "#>>>A Method is invoked by the programmer.\n",
    "#>>>A Method is invoked through method calls.\n",
    "#>>>A Method must have a return type.\n",
    "#>>>A Method does operations on an already created object.\n",
    "#>>>A Method’s name can be anything.\n",
    "#>>>A class can have many methods but must not have the same parameters.\n",
    "#>>>A Method can be inherited by subclasses.\n"
   ]
  },
  {
   "cell_type": "markdown",
   "id": "88ccedae-d49c-46aa-85ea-a35c17db33a0",
   "metadata": {},
   "source": [
    "     15. Explain the role of the `self` parameter in instance variable initialization within a constructor."
   ]
  },
  {
   "cell_type": "code",
   "execution_count": 57,
   "id": "4d4fc383-14b0-4d60-9978-c166d38ac6b9",
   "metadata": {},
   "outputs": [],
   "source": [
    "# In the constructor, “self” is used to initialize instance variables (arg1 and arg2) with the values passed as arguments. \n",
    "#In the my_method, “self” is used to access and print the values of arg1 and arg2.\n",
    "\n",
    "#It’s important to note that “self” is a convention and not a keyword in Python.\n",
    "#It’s possible to use any other variable name in place of “self,” but it’s not recommended for readability and maintainability reasons.\n",
    " #In Python, instance methods take “self” as the first parameter, which is used to pass the instance to the method. \n",
    "    #This allows the method to access and manipulate the instance variables and methods within the class."
   ]
  },
  {
   "cell_type": "markdown",
   "id": "6ef9af3c-5c3d-4426-8424-1f77272190ac",
   "metadata": {},
   "source": [
    "      16. How do you prevent a class from having multiple instances by using constructors in Python? Provide an example.\n",
    "                                "
   ]
  },
  {
   "cell_type": "code",
   "execution_count": 3,
   "id": "66605fb4-ac59-49b5-8b39-12da1f76ec5a",
   "metadata": {},
   "outputs": [
    {
     "name": "stdout",
     "output_type": "stream",
     "text": [
      "Sum of list : 15\n",
      "Square of int : 25\n",
      "String : Hello! GeeksforGeeks.\n"
     ]
    }
   ],
   "source": [
    "#\n",
    "#Need for multiple constructors:-\n",
    "#Multiple constructors are required when one has to perform different actions on the instantiation of a class. This is useful when the class has to perform different actions on different parameters. The class constructors can be made to exhibit polymorphism in three ways which are listed below.\n",
    "\n",
    "#Overloading constructors based on arguments.\n",
    "#Calling methods from __init__.\n",
    "#Using @classmethod decorator.\n",
    "#This article explains how to have multiple constructors in a clean and Pythonic way with examples.\n",
    "\n",
    "class sample:\n",
    "\n",
    "\t# constructor overloading\n",
    "\t# based on args\n",
    "\tdef __init__(self, *args):\n",
    "\n",
    "\t\t# if args are more than 1\n",
    "\t\t# sum of args\n",
    "\t\tif len(args) > 1:\n",
    "\t\t\tself.ans = 0\n",
    "\t\t\tfor i in args:\n",
    "\t\t\t\tself.ans += i\n",
    "\n",
    "\t\t# if arg is an integer\n",
    "\t\t# square the arg\n",
    "\t\telif isinstance(args[0], int):\n",
    "\t\t\tself.ans = args[0]*args[0]\n",
    "\n",
    "\t\t# if arg is string\n",
    "\t\t# Print with hello\n",
    "\t\telif isinstance(args[0], str):\n",
    "\t\t\tself.ans = \"Hello! \"+args[0]+\".\"\n",
    "\n",
    "\n",
    "s1 = sample(1, 2, 3, 4, 5)\n",
    "print(\"Sum of list :\", s1.ans)\n",
    "\n",
    "s2 = sample(5)\n",
    "print(\"Square of int :\", s2.ans)\n",
    "\n",
    "s3 = sample(\"GeeksforGeeks\")\n",
    "print(\"String :\", s3.ans)\n"
   ]
  },
  {
   "cell_type": "markdown",
   "id": "fe15d75d-7a31-45de-bda5-e7961cee074a",
   "metadata": {},
   "source": [
    "     17. Create a Python class called `Student` with a constructor that takes a list of subjects as a parameter and\n",
    "        initializes the `subjects` attribute."
   ]
  },
  {
   "cell_type": "code",
   "execution_count": 58,
   "id": "edd3d3cd-ad5b-44e1-9691-77bafc593924",
   "metadata": {},
   "outputs": [
    {
     "name": "stdout",
     "output_type": "stream",
     "text": [
      "The number of students: 3\n"
     ]
    }
   ],
   "source": [
    "class Student:    \n",
    "    count = 0    \n",
    "    def __init__(self):    \n",
    "        Student.count = Student.count + 1    \n",
    "s1=Student()    \n",
    "s2=Student()    \n",
    "s3=Student()    \n",
    "print(\"The number of students:\",Student.count)"
   ]
  },
  {
   "cell_type": "markdown",
   "id": "a74563f1-2758-4ea3-a9df-c95c576379f4",
   "metadata": {},
   "source": [
    "        18. What is the purpose of the `__del__` method in Python classes, and how does it relate to constructors?"
   ]
  },
  {
   "cell_type": "code",
   "execution_count": 1,
   "id": "bb86b348-c6b4-4abb-9259-cb7c46b72d5f",
   "metadata": {},
   "outputs": [],
   "source": [
    "#In Python, the __del__() method is referred to as a destructor method. \n",
    "#It is called after an object's garbage collection occurs, which happens after all references to the item have been destroyed. \n",
    "#Student table created. Destructor called, Student table deleted\n",
    "\n",
    "#__del__ is a finalizer.\n",
    "#It is called when an object is garbage collected which happens at some point after all references to the object have been deleted.\n",
    "\n",
    "#In a simple case this could be right after you say del x or, if x is a local variable, after the function ends. \n",
    "#In particular, unless there are circular references, CPython (the standard Python implementation) will garbage collect immediately.*\n",
    "\n",
    "#However, this is an implementation detail of CPython.\n",
    "#The only required property of Python garbage collection is that it happens after all references have been deleted, \n",
    "#so this might not necessary happen right after and might not happen at all.\n",
    "\n",
    "#Even more, variables can live for a long time for many reasons, e.g.\n",
    "#a propagating exception or module introspection can keep variable reference count greater than 0.\n",
    "#Also, variable can be a part of cycle of references — CPython with garbage collection turned on breaks most,\n",
    "#but not all, such cycles, and even then only periodically.\n",
    "\n",
    "#Since you have no guarantee it's executed, one should never put the code that you need to be run into __del__() — instead,\n",
    "#this code belongs to the finally clause of a try statement or to a context manager in a with statement. \n",
    "#However, there are valid use cases for __del__: e.g. \n",
    "#if an object X references Y and also keeps a copy of Y reference in a global cache (cache['X -> Y'] = Y) \n",
    "#then it would be polite for X.__del__ to also delete the cache entry.\n",
    "\n",
    "#If you know that the destructor provides (in violation of the above guideline) a required cleanup, you might want to call it directly,\n",
    "#since there is nothing special about it as a method: x.__del__(). Obviously, you should only do so if you know it can be called twice.\n",
    "#Or, as a last resort, you can redefine this method using\n"
   ]
  },
  {
   "cell_type": "markdown",
   "id": "0de4aaf7-defd-417e-9b53-f0b7bcf27ed3",
   "metadata": {},
   "source": [
    "        19. Explain the use of constructor chaining in Python. Provide a practical example."
   ]
  },
  {
   "cell_type": "code",
   "execution_count": 2,
   "id": "dd46e50f-b8f4-432d-bf24-0c434ef93183",
   "metadata": {},
   "outputs": [],
   "source": [
    "#Constructor Chaining:--\n",
    "#Constructors are used for instantiating an object. \n",
    "#The task of the constructor is to assign value to data members when an object of the class is created.\n",
    "\n",
    "#Constructor chaining is the process of calling one constructor from another constructor. \n",
    "#Constructor chaining is useful when you want to invoke multiple constructors, one after another, by initializing only one instance.\n",
    "\n",
    "#In Python, constructor chaining is convenient when we are dealing with inheritance.\n",
    "#When an instance of a child class is initialized, the constructors of all the parent classes are first invoked and then,\n",
    "#in the end, the constructor of the child class is invoked.\n",
    "\n",
    "#Using the super() method we can invoke the parent class constructor from a child class.\n",
    "\n"
   ]
  },
  {
   "cell_type": "markdown",
   "id": "f8606a2e-095c-4b76-b9da-5c8cfb0e1c4a",
   "metadata": {},
   "source": [
    "     20. Create a Python class called `Car` with a default constructor that initializes the `make` and `model`\n",
    "         attributes. Provide a method to display car information."
   ]
  },
  {
   "cell_type": "code",
   "execution_count": 3,
   "id": "a2b03b4c-a097-4c60-a8b6-97d5a43035ed",
   "metadata": {},
   "outputs": [
    {
     "name": "stdout",
     "output_type": "stream",
     "text": [
      "Toyota Corolla (2023)\n",
      "The Toyota Corolla is driving.\n",
      "The Toyota Corolla is stopping.\n"
     ]
    }
   ],
   "source": [
    "class Car: \n",
    " \n",
    "    def __init__(self, make, model, year): \n",
    "        self.make = make \n",
    "        self.model = model \n",
    "        self.year = year \n",
    " \n",
    "    def __str__(self): \n",
    "        return f\"{self.make} {self.model} ({self.year})\" \n",
    " \n",
    "    def drive(self): \n",
    "        print(f\"The {self.make} {self.model} is driving.\") \n",
    " \n",
    "    def stop(self): \n",
    "        print(f\"The {self.make} {self.model} is stopping.\") \n",
    " \n",
    " \n",
    "my_car = Car(\"Toyota\", \"Corolla\", 2023) \n",
    " \n",
    "print(my_car) \n",
    "my_car.drive() \n",
    "my_car.stop() "
   ]
  },
  {
   "cell_type": "markdown",
   "id": "8967654a-1a5c-48f6-8baa-97711a39ade6",
   "metadata": {},
   "source": [
    "                                                                     Inheritance:-"
   ]
  },
  {
   "cell_type": "markdown",
   "id": "f6e75efb-d219-4bcc-bd3d-8e3a9a8236ba",
   "metadata": {},
   "source": [
    "       1. What is inheritance in Python? Explain its significance in object-oriented programming."
   ]
  },
  {
   "cell_type": "code",
   "execution_count": 1,
   "id": "54e002b9-a5a0-408a-8c80-ac66f1212e1f",
   "metadata": {},
   "outputs": [],
   "source": [
    "#what is inheritance in python?\n",
    "\n",
    "#One of the core concepts in object-oriented programming (OOP) languages is inheritance.\n",
    "#It is a mechanism that allows you to create a hierarchy of classes that share a set of properties and methods by deriving a class from another class.\n",
    "#Inheritance is the capability of one class to derive or inherit the properties from another class. \n",
    "\n",
    "#Object-Oriented Programming (OOP) is a programming paradigm in computer science that relies on the concept of classes and objects. \n",
    "#It is used to structure a software program into simple, reusable pieces of code blueprints (usually called classes), \n",
    "#which are used to create individual instances of objects.\n"
   ]
  },
  {
   "cell_type": "markdown",
   "id": "b05538ba-51dd-4f69-8ea4-390f6794d4d2",
   "metadata": {},
   "source": [
    "     2. Differentiate between single inheritance and multiple inheritance in Python. Provide examples for each."
   ]
  },
  {
   "cell_type": "code",
   "execution_count": null,
   "id": "2d73423d-d99c-4f57-8637-ff1d16bd9de5",
   "metadata": {},
   "outputs": [],
   "source": [
    "#>>>Single Inheritance: \n",
    "#Single inheritance enables a derived class to inherit properties from a single parent class,\n",
    "#thus enabling code reusability and the addition of new features to existing code.\n",
    "\n",
    "#>>>Multiple Inheritance: \n",
    "#When a class can be derived from more than one base class this type of inheritance is called multiple inheritances.\n",
    "#In multiple inheritances, all the features of the base classes are inherited into the derived class. "
   ]
  },
  {
   "cell_type": "markdown",
   "id": "dcac983e-26fc-42e9-95e4-a7731bb3066c",
   "metadata": {},
   "source": [
    "    3. Create a Python class called `Vehicle` with attributes `color` and `speed`. Then, create a child class called\n",
    "       `Car` that inherits from `Vehicle` and adds a `brand` attribute. Provide an example of creating a `Car` object."
   ]
  },
  {
   "cell_type": "code",
   "execution_count": 7,
   "id": "88d2ac63-2478-41fb-b27e-17b982886289",
   "metadata": {},
   "outputs": [
    {
     "name": "stdout",
     "output_type": "stream",
     "text": [
      "My car is a Red car with a speed of 120 km/h, and the brand is Toyota.\n"
     ]
    }
   ],
   "source": [
    "class Vehicle:\n",
    "    def __init__(self, color, speed):\n",
    "        self.color = color\n",
    "        self.speed = speed\n",
    "\n",
    "class Car(Vehicle):\n",
    "    def __init__(self, color, speed, brand):\n",
    "        # You should call the parent class constructor using super() to initialize color and speed attributes\n",
    "        super().__init__(color, speed)\n",
    "        self.brand = brand\n",
    "\n",
    "# Example of creating a Car object\n",
    "my_car = Car(\"Red\", 120, \"Toyota\")\n",
    "print(f\"My car is a {my_car.color} car with a speed of {my_car.speed} km/h, and the brand is {my_car.brand}.\")"
   ]
  },
  {
   "cell_type": "markdown",
   "id": "cfce78c1-87c0-4b58-a791-a826aaf41c24",
   "metadata": {},
   "source": [
    "       4. Explain the concept of method overriding in inheritance. Provide a practical example."
   ]
  },
  {
   "cell_type": "code",
   "execution_count": 23,
   "id": "d48452b2-7713-4bfe-b891-a3fe629b0339",
   "metadata": {
    "tags": []
   },
   "outputs": [
    {
     "name": "stdout",
     "output_type": "stream",
     "text": [
      "Inside Parent\n",
      "Inside Child\n"
     ]
    }
   ],
   "source": [
    "#Method overriding is a core concept in object-oriented programming (OOP), particularly in inheritance.\n",
    "#It allows a subclass to provide its own implementation for a method already defined in its superclass.\n",
    "\n",
    "#The concept is outlined below:\n",
    "\n",
    "#Inheritance: In object-oriented programming, classes can inherit attributes and methods from other classes.\n",
    "#Superclasses (or base classes) are the classes they inherit from, while subclasses (or derived classes) inherit from them.\n",
    "#Method Overriding: A subclass overrides a method in its superclass when the method has the same name and signature.\n",
    "#The overridden method in the subclass provides a specialized implementation specific to the subclass' needs.\n",
    "#Polymorphism: Method overriding is a key feature of polymorphism. \n",
    "#In polymorphism, different classes can be treated as instances of the same superclass, regardless of how they implement the same method.\n",
    "#This makes the code more flexible and reusable.\n",
    "\n",
    "\n",
    "#Example:-\n",
    "# Python program to demonstrate \n",
    "# method overriding \n",
    "\n",
    "\n",
    "# Defining parent class \n",
    "class Parent(): \n",
    "\t\n",
    "\t# Constructor \n",
    "\tdef __init__(self): \n",
    "\t\tself.value = \"Inside Parent\"\n",
    "\t\t\n",
    "\t# Parent's show method \n",
    "\tdef show(self): \n",
    "\t\tprint(self.value) \n",
    "\t\t\n",
    "# Defining child class \n",
    "class Child(Parent): \n",
    "\t\n",
    "\t# Constructor \n",
    "\tdef __init__(self): \n",
    "\t\tself.value = \"Inside Child\"\n",
    "\t\t\n",
    "\t# Child's show method \n",
    "\tdef show(self): \n",
    "\t\tprint(self.value) \n",
    "\t\t\n",
    "\t\t\n",
    "# Driver's code \n",
    "obj1 = Parent() \n",
    "obj2 = Child() \n",
    "\n",
    "obj1.show() \n",
    "obj2.show() \n"
   ]
  },
  {
   "cell_type": "markdown",
   "id": "4e25ef37-b0ff-4ead-a870-7230b412241b",
   "metadata": {},
   "source": [
    "    5. How can you access the methods and attributes of a parent class from a child class in Python? Give an example.\n",
    " "
   ]
  },
  {
   "cell_type": "code",
   "execution_count": 12,
   "id": "0248e043-12d2-4bc7-b39e-931ccda64993",
   "metadata": {},
   "outputs": [
    {
     "name": "stdout",
     "output_type": "stream",
     "text": [
      "100\n",
      "emp-cls\n",
      "100\n",
      "emp-cls\n"
     ]
    }
   ],
   "source": [
    "class Employee():\n",
    "    cls_id = 'emp-cls'\n",
    "\n",
    "    def __init__(self, name):\n",
    "        self.salary = 100\n",
    "        self.name = name\n",
    "\n",
    "\n",
    "class Developer(Employee):\n",
    "    def __init__(self, name):\n",
    "        # invoke parent __init__() method\n",
    "        super().__init__(name)\n",
    "\n",
    "        # accessing parent instance variable\n",
    "        print(self.salary)  #  100\n",
    "\n",
    "        # accessing parent class variable\n",
    "        print(self.cls_id)  # emp-cls\n",
    "\n",
    "\n",
    "d1 = Developer('bobbyhadz')\n",
    "print(d1.salary)  # 100\n",
    "\n",
    "print(d1.cls_id)  #  'emp-cls'\n"
   ]
  },
  {
   "cell_type": "markdown",
   "id": "780dd7cf-f17d-4d4b-a91f-3eeb23888e73",
   "metadata": {},
   "source": [
    "     6. Discuss the use of the `super()` function in Python inheritance. When and why is it used? Provide an example."
   ]
  },
  {
   "cell_type": "code",
   "execution_count": 36,
   "id": "db3a1d71-5dd6-4f27-8bc9-94c55a9d3a3c",
   "metadata": {},
   "outputs": [
    {
     "name": "stdout",
     "output_type": "stream",
     "text": [
      "The ID is: 103\n",
      "The Name is: Suraj kr gupta\n",
      "The Address is: Noida\n",
      "The Emails is: KKK@gmails\n"
     ]
    }
   ],
   "source": [
    "#The super() function is a built-in function in Python that provides a convenient way to access and delegate methods and attributes of parent classes.\n",
    "#When used, it allows one class to access the methods and properties of another class in the same hierarchy. \n",
    "#It is commonly used to avoid redundant code and make it more organized and easier to maintain.\n",
    "\n",
    "#In order to understand how the Python super() function works, we must first understand the concept of inheritance.\n",
    "#Inheritance is a powerful feature of object-oriented programming (OOP) that allows a child class to inherit its parent class's methods \n",
    "#and attributes without manually coding the same methods or properties in the child class.\n",
    "#This makes it easier for us to change our code and makes it more efficient by not having to repeat the same code across multiple classes.\n",
    "\n",
    "#Syntax of super() function\n",
    "#When using the Python super() function, you must include the self-argument in your method. \n",
    "#This tells Python that you are referring to the current class, not another class in the hierarchy. See the example below:\n",
    "\n",
    "#Python\n",
    "class Emp():\n",
    "\tdef __init__(self, id, name, Add):\n",
    "\t\tself.id = id\n",
    "\t\tself.name = name\n",
    "\t\tself.Add = Add\n",
    "\n",
    "# Class freelancer inherits EMP\n",
    "class Freelance(Emp):\n",
    "\tdef __init__(self, id, name, Add, Emails):\n",
    "\t\tsuper().__init__(id, name, Add)\n",
    "\t\tself.Emails = Emails\n",
    "\n",
    "Emp_1 = Freelance(103, \"Suraj kr gupta\", \"Noida\" , \"KKK@gmails\")\n",
    "print('The ID is:', Emp_1.id)\n",
    "print('The Name is:', Emp_1.name)\n",
    "print('The Address is:', Emp_1.Add)\n",
    "print('The Emails is:', Emp_1.Emails)\n",
    "\n",
    "\n"
   ]
  },
  {
   "cell_type": "markdown",
   "id": "243fbc78-66ea-4673-b8b9-1ab069e68bbe",
   "metadata": {},
   "source": [
    "    7. Create a Python class called `Animal` with a method `speak()`. Then, create child classes `Dog` and `Cat` that inherit from `Animal` and override the `speak()` method. Provide an example of using these classes"
   ]
  },
  {
   "cell_type": "code",
   "execution_count": 50,
   "id": "23e47782-4c6d-4162-9fb2-5f4d82eb0c22",
   "metadata": {},
   "outputs": [
    {
     "name": "stdout",
     "output_type": "stream",
     "text": [
      "whoof\n",
      "moue\n"
     ]
    }
   ],
   "source": [
    "class animal:\n",
    "    def speak():\n",
    "        pass\n",
    "    \n",
    "class dog:\n",
    "    def speak():\n",
    "        return \"whoof\"\n",
    "    \n",
    "class cat:\n",
    "    def speak():\n",
    "        return \"moue\"\n",
    "    \n",
    "    \n",
    "dog = dog.speak()\n",
    "cat = cat.speak()\n",
    "\n",
    "\n",
    "print(dog)\n",
    "print(cat)"
   ]
  },
  {
   "cell_type": "markdown",
   "id": "10c9ba0c-aa51-427d-a397-884dfed68086",
   "metadata": {},
   "source": [
    "           8. Explain the role of the `isinstance()` function in Python and how it relates to inheritance."
   ]
  },
  {
   "cell_type": "code",
   "execution_count": 51,
   "id": "b89ecc41-d087-4173-802a-c9955945d74c",
   "metadata": {},
   "outputs": [],
   "source": [
    "#The isinstance Python is an in-built function that is based on the concept of objects. \n",
    "#Python is an object-oriented language in which classes can be created. The isinstance function can be used in various ways in a Python program. \n",
    "#The most important and common use of the function is to know which object belongs to which class in the middle of the program. \n",
    "\n",
    "#The isinstance () function checks whether an object is an instance of the class mentioned. \n",
    "#One can test if an object or variable is an instance of the type or class. \n",
    "#If inheritance is present in the program, then the function can be used to check if a specified class is the parent class of an object. \n",
    "\n",
    "#The following syntax is followed to implement the isinstance () function in Python.\n",
    "#isinstance () Parameters \n",
    "#The isinstance Python function requires two parameters to be passed. \n",
    "#The first is the object that needs to be checked whether it is a subclass or instance of the specified class or not. \n",
    "\n",
    "#The second argument that needs to be passed in the isinstance () function is the class, type, or tuple of a class or type. \n",
    "#The object needs to be checked as an element of this class.  "
   ]
  },
  {
   "cell_type": "markdown",
   "id": "8fce2a05-f93e-4b76-8973-a6ff23befabd",
   "metadata": {},
   "source": [
    "      9. What is the purpose of the `issubclass()` function in Python? Provide an example."
   ]
  },
  {
   "cell_type": "code",
   "execution_count": 52,
   "id": "b6e67afa-a1d7-422e-a428-c72435b4d14d",
   "metadata": {},
   "outputs": [
    {
     "name": "stdout",
     "output_type": "stream",
     "text": [
      "True\n",
      "False\n",
      "True\n",
      "True\n"
     ]
    }
   ],
   "source": [
    "#issubclass() in Python\n",
    "#Python issubclass() is built-in function used to check if a class is a subclass of another class or not. \n",
    "#This function returns True if the given class is the subclass of given class else it returns False.\n",
    "\n",
    "#Syntax: issubclass( object, classinfo ) \n",
    "\n",
    "#Parameters: \n",
    "\n",
    "\n",
    "#Object: class to be checked\n",
    "#classinfo: class, types or a tuple of classes and types \n",
    "#Return Type: True if object is subclass of a class, or any element of the tuple, otherwise False.\n",
    "\n",
    "#Example :\n",
    "\n",
    "#For issubclass python we are defining multiple classes and representing the phenomenon of Inheritance, then for a particular class \n",
    "#we are checking whether it is the subclass for the mentioned base class or not.\n",
    "\n",
    "# Python program to demonstrate\n",
    "# issubclass()\n",
    "\n",
    "\n",
    "# Defining Parent class\n",
    "class Vehicles:\n",
    "\n",
    "\t# Constructor\n",
    "\tdef __init__(vehicleType):\n",
    "\t\tprint('Vehicles is a ', vehicleType)\n",
    "\n",
    "# Defining Child class\n",
    "class Car(Vehicles):\n",
    "\n",
    "\t# Constructor\n",
    "\tdef __init__(self):\n",
    "\t\tVehicles.__init__('Car')\n",
    "\n",
    "# Driver's code \n",
    "print(issubclass(Car, Vehicles))\n",
    "print(issubclass(Car, list))\n",
    "print(issubclass(Car, Car))\n",
    "print(issubclass(Car, (list, Vehicles)))\n"
   ]
  },
  {
   "cell_type": "markdown",
   "id": "15180ef5-7d91-4151-a792-014f2301239c",
   "metadata": {},
   "source": [
    "      10. Discuss the concept of constructor inheritance in Python. How are constructors inherited in child classes?"
   ]
  },
  {
   "cell_type": "code",
   "execution_count": 4,
   "id": "50468514-36df-4e24-a0ed-f250349b0dac",
   "metadata": {},
   "outputs": [
    {
     "name": "stdout",
     "output_type": "stream",
     "text": [
      "dogname\n",
      "doberman\n"
     ]
    }
   ],
   "source": [
    "#***Inheriting the Constructor****:\n",
    "    \n",
    "#>>>>If we see from our previous inheritance example, __init__ was located in the parent class in the up ‘cause \n",
    "#the child class dog or cat didn’t‘ve __init__ method in it.\n",
    "#Python used the inheritance attribute lookup to find __init__ in animal class.\n",
    "#When we created the child class, first it will look the __init__ method in the dog class, \n",
    "#then it didn’t find it then looked into parent class Animal and found there and called that there. \n",
    "#So as our class design became complex we may wish to initialize a instance firstly processing it through parent class constructor \n",
    "#and then through child class constructor.\n",
    "import random\n",
    "class animal(object):\n",
    "    def __init__(self,name):\n",
    "        self.name = name\n",
    "        \n",
    "class dog(animal):\n",
    "    def __init__(self,name):\n",
    "        super(dog,self).__init__(name)\n",
    "        self.breed = random.choice(['doberman','german shepherd','beagle'])\n",
    "\n",
    "    def fetch(self,thing):\n",
    "        print('%s goes after the %s!' %(self.name,thing))\n",
    "        \n",
    "d = dog('dogname')\n",
    "print(d.name)\n",
    "print(d.breed)"
   ]
  },
  {
   "cell_type": "markdown",
   "id": "3c2f47c0-716f-4417-bebb-1940cdf9ae8f",
   "metadata": {},
   "source": [
    "    11. Create a Python class called `Shape` with a method `area()` that calculates the area of a shape. \n",
    "        Then, create child classes `Circle` and `Rectangle` that inherit from `Shape` and implement the `area()` method\n",
    "        accordingly. Provide an example."
   ]
  },
  {
   "cell_type": "code",
   "execution_count": 15,
   "id": "5c93c7b0-b544-4456-913c-6faa82fe26cc",
   "metadata": {},
   "outputs": [
    {
     "ename": "IndentationError",
     "evalue": "unindent does not match any outer indentation level (<tokenize>, line 18)",
     "output_type": "error",
     "traceback": [
      "\u001b[0;36m  File \u001b[0;32m<tokenize>:18\u001b[0;36m\u001b[0m\n\u001b[0;31m    elif name == \"square\":\u001b[0m\n\u001b[0m    ^\u001b[0m\n\u001b[0;31mIndentationError\u001b[0m\u001b[0;31m:\u001b[0m unindent does not match any outer indentation level\n"
     ]
    }
   ],
   "source": [
    "# define a function for calculating\n",
    "# the area of a shapes\n",
    "def calculate_area(name):\n",
    "\n",
    "# converting all characters\n",
    "# into lower cases\n",
    "  name = name.lower()\n",
    "\n",
    "# check for the conditions\n",
    "   if name == \"rectangle\":\n",
    "\t    l = int(input(\"Enter rectangle's length: \"))\n",
    "\t    b = int(input(\"Enter rectangle's breadth: \"))\n",
    "\t\n",
    "\t# calculate area of rectangle\n",
    "\t     rect_area = l * b\n",
    "\t      print(f\"The area of rectangle is {rect_area}.\")\n",
    "\n",
    "    elif name == \"square\":\n",
    "\t    s = int(input(\"Enter square's side length: \"))\n",
    "\t\n",
    "\t# calculate area of square\n",
    "\t    sqt_area = s * s\n",
    "\t    print(f\"The area of square is {sqt_area}.\")\n",
    "\n",
    "    elif name == \"triangle\":\n",
    "\t    h = int(input(\"Enter triangle's height length: \"))\n",
    "\t    b = int(input(\"Enter triangle's breadth length: \"))\n",
    "\t\n",
    "\t# calculate area of triangle\n",
    "\t     tri_area = 0.5 * b * h\n",
    "\t      print(f\"The area of triangle is {tri_area}.\")\n",
    "\n",
    "    elif name == \"circle\":\n",
    "\t    r = int(input(\"Enter circle's radius length: \"))\n",
    "\t    pi = 3.14\n",
    "\t\t\n",
    "\t# calculate area of circle\n",
    "\t    circ_area = pi * r * r\n",
    "\t    print(f\"The area of circle is {circ_area}.\")\n",
    "\t\t\n",
    "    elif name == 'parallelogram':\n",
    "\t    b = int(input(\"Enter parallelogram's base length: \"))\n",
    "\t    h = int(input(\"Enter parallelogram's height length: \"))\n",
    "\t\n",
    "\t# calculate area of parallelogram\n",
    "\t    para_area = b * h\n",
    "\t    print(f\"The area of parallelogram is {para_area}.\")\n",
    "\t\n",
    "    else:\n",
    "\t    print(\"Sorry! This shape is not available\")\n",
    "\n",
    "# driver code\n",
    "if __name__ == \"__main__\" :\n",
    "\n",
    "print(\"Calculate Shape Area\")\n",
    "shape_name = input(\"Enter the name of shape whose area you want to find: \")\n",
    "\n",
    "# function calling\n",
    "calculate_area(shape_name)\n"
   ]
  },
  {
   "cell_type": "markdown",
   "id": "c5a7e068-4158-416f-a170-2435f43802e0",
   "metadata": {},
   "source": [
    "     12. Explain the use of abstract base classes (ABCs) in Python and how they relate to inheritance. Provide an example using the `abc` module.\n"
   ]
  },
  {
   "cell_type": "code",
   "execution_count": 2,
   "id": "2787ed7e-b32a-4c2f-a913-e1b0f4d40009",
   "metadata": {},
   "outputs": [
    {
     "name": "stdout",
     "output_type": "stream",
     "text": [
      "Abstract 1\n"
     ]
    }
   ],
   "source": [
    "#An ABC is a class that contains one or more pure virtual member functions. \n",
    "#Such a class is not concrete and cannot be instantiated using the new operator. \n",
    "#Instead, it is used as a base class where derived classes provide the implementations of the pure virtual methods.\n",
    "#for example:\n",
    "import abc \n",
    "\n",
    "\n",
    "class AbstractClass(metaclass=abc.ABCMeta): \n",
    "\t@property\n",
    "\t@abc.abstractmethod \n",
    "\tdef abstractName(self): \n",
    "\t\tpass\n",
    "\n",
    "\n",
    "class ValidSubClass(AbstractClass): \n",
    "\t@property\n",
    "\tdef abstractName(self): \n",
    "\t\treturn 'Abstract 1'\n",
    "\n",
    "\n",
    "vc = ValidSubClass() \n",
    "print(vc.abstractName) \n"
   ]
  },
  {
   "cell_type": "markdown",
   "id": "86f64efa-25f5-4ee9-ac81-aa6c50509ae1",
   "metadata": {},
   "source": [
    "    13. How can you prevent a child class from modifying certain attributes or methods inherited from a parent\n",
    "        class in Python?"
   ]
  },
  {
   "cell_type": "code",
   "execution_count": 3,
   "id": "cc7ce7d9-338f-4c73-a3ec-d01ff31c8735",
   "metadata": {},
   "outputs": [],
   "source": [
    "#When creating a child class in Python and defining the init method, I would like to import all \n",
    "#the attributes of the super/parent class except certain positional parameters and certain parameters \n",
    "#(which are not defined inside parent classes' init method's list of positional or keyworded/non-keworded parameters but) defined within/inside\n",
    "#the parent class init method with a default value.\n",
    "\n",
    "#Is there a way to prevent/avoid certain/specific parent class attributes to be imported in the child class upon initiation?\n",
    "#I am aware that we can override methods in the child class which do not mimic parent class behaviors, but I am not aware how to do\n",
    "#the same with attributes, so I was thinking if I could avoid them completely!\n",
    "\n",
    "#I will give an example of why I need a certain child class to mimic everything from its parent except certain attribute.\n",
    "\n",
    "#Consider a parent class \"Car\". The child class will be \"ElectricCar\".\n",
    "#The parent class has an attribute defined called \"liters_gasoline\" with certain integer as its default value.\n",
    "\n",
    "#Now, I would like to inherit everything in the ElectricCar sub-class except that \"liters_gasoline\" parameter, \n",
    "#because ElectricCars don't use fuel/gasoline. How to prevent this \"liters_gasoline\" parameter from being inherited in the child class?\n",
    "#I don't want this parameter in child class!"
   ]
  },
  {
   "cell_type": "markdown",
   "id": "16fae862-4648-4f16-9501-98d281844c77",
   "metadata": {},
   "source": [
    "    14. Create a Python class called `Employee` with attributes `name` and `salary`. Then, create a child class\n",
    "        `Manager` that inherits from `Employee` and adds an attribute `department`. Provide an example."
   ]
  },
  {
   "cell_type": "code",
   "execution_count": 9,
   "id": "eb8c0251-272a-47f4-a30c-3e2d4ee72fa7",
   "metadata": {},
   "outputs": [],
   "source": [
    "class employee(object):\n",
    "    def __init__(self, name ,salary):\n",
    "        self.name = name\n",
    "        self.salary = salary\n",
    "    \n",
    "    def my_name(self):\n",
    "        return self._name\n",
    "    \n",
    "class manger(employee):\n",
    "    def __init__(self,name,salary):\n",
    "        employee.__init_(self,name,salary)\n",
    "        "
   ]
  },
  {
   "cell_type": "markdown",
   "id": "10ff483a-275d-47ba-8228-feaac4e22858",
   "metadata": {},
   "source": [
    "     15. Discuss the concept of method overloading in Python inheritance. How does it differ from method\n",
    "         overriding?"
   ]
  },
  {
   "cell_type": "code",
   "execution_count": 10,
   "id": "87afbdfa-4d3b-4d8a-86aa-2201d5e1e367",
   "metadata": {},
   "outputs": [],
   "source": [
    "#Method Overloading:\n",
    "\n",
    "#Two or more methods have the same name but different numbers of parameters or different types of parameters, or both. \n",
    "#These methods are called overloaded methods and this is called method overloading. \n",
    "\n",
    "#Like other languages (for example, method overloading in C++) do, python does not support method overloading by default. \n",
    "#But there are different ways to achieve method overloading in Python. \n",
    "\n",
    "#The problem with method overloading in Python is that we may overload the methods but can only use the latest defined method.\n",
    "\n",
    "#method overriding:\n",
    "\n",
    "#Method overriding is an ability of any object-oriented programming language that allows a subclass or \n",
    "#child class to provide a specific implementation of a method that is already provided by one of its super-classes or parent classes.\n",
    "#When a method in a subclass has the same name, same parameters or signature and same return type(or sub-type) as a method in its super-class,\n",
    "#then the method in the subclass is said to override the method in the super-class.\n",
    "\n",
    "#overriding-in-python\n",
    "\n",
    "#The version of a method that is executed will be determined by the object that is used to invoke it.\n",
    "#If an object of a parent class is used to invoke the method, then the version in the parent class will be executed, \n",
    "#but if an object of the subclass is used to invoke the method, then the version in the child class will be executed. \n",
    "#In other words, it is the type of the object being referred to (not the type of the reference variable) \n",
    "#that determines which version of an overridden method will be executed."
   ]
  },
  {
   "cell_type": "markdown",
   "id": "ceb1b90d-2c50-4ca9-a2bb-f0cd78f3811c",
   "metadata": {},
   "source": [
    "     16. Explain the purpose of the `__init__()` method in Python inheritance and how it is utilized in child classes. "
   ]
  },
  {
   "cell_type": "code",
   "execution_count": 11,
   "id": "5c003252-acee-47bd-8139-12d0ff523175",
   "metadata": {},
   "outputs": [],
   "source": [
    "#The python __init__ method is declared within a class and is used to initialize the attributes of an object as soon as the object is formed. \n",
    "#While giving the definition for an __init__(self) method, a default parameter, named ‘self’ is always passed in its argument.\n",
    "#This self represents the object of the class itself.\n",
    "#Like in any other method of a class, in case of __init__ also ‘self’ is used as a dummy object variable for assigning values to\n",
    "#the data members of an object. \n",
    "\n",
    "#The __init__ method is often referred to as double underscores init or dunder init for it has two underscores on each side of its name.\n",
    "#These double underscores on both the sides of init imply that the method is invoked and used internally in Python,\n",
    "#without being required to be called explicitly by the object. \n",
    "\n",
    "#This python __init__ method may or may not take arguments for object initialisation. You can also pass default arguments in its parameter. \n",
    "#However, even though there is no such concept of Constructor Overloading in Python, \n",
    "#one can still achieve polymorphism in the case of constructors in Python on the basis of its argument."
   ]
  },
  {
   "cell_type": "markdown",
   "id": "59930e3d-f166-4063-bb5e-c55d4fb27dfa",
   "metadata": {},
   "source": [
    "     17. Create a Python class called `Bird` with a method `fly()`. Then, create child classes `Eagle` and `Sparrow` that inherit from \n",
    "     `Bird` andimplement the `fly()` method differently. Provide an example of using these  classes.\n",
    "    "
   ]
  },
  {
   "cell_type": "code",
   "execution_count": 13,
   "id": "10293e11-25b5-4f01-b43b-b44e3877fe6f",
   "metadata": {},
   "outputs": [
    {
     "name": "stdout",
     "output_type": "stream",
     "text": [
      "Flying\n",
      "Eagle\n",
      "Black and White\n",
      "3\n",
      "<bound method Bird.fly of <__main__.Bird object at 0x7f770c264a60>>\n"
     ]
    }
   ],
   "source": [
    "class Bird():\n",
    "    \"\"\" Blueprint for a Bird \"\"\"\n",
    "    def __init__(self, name, feather_color, beak_size, beak_color):\n",
    "        self.name = name\n",
    "        self.feather_color = feather_color\n",
    "        self.beak_size = beak_size\n",
    "        self.beak_color = beak_color\n",
    "    def fly(self):\n",
    "        print(\"Flying\")\n",
    "    def walk(self):\n",
    "        print(\"Walking\")\n",
    "myBird = Bird('Eagle', 'Black and White', 3, 'Yellow')\n",
    "myBird.fly()\n",
    "\n",
    "# Print bird name \n",
    "print(myBird.name)\n",
    "# Print bird feather color\n",
    "print(myBird.feather_color)\n",
    "# Print bird beak size\n",
    "print(myBird.beak_size)\n",
    "#print bird state\n",
    "print(myBird.fly)"
   ]
  },
  {
   "cell_type": "markdown",
   "id": "32ba5c44-3f22-428c-893c-31f36f5f8e7c",
   "metadata": {},
   "source": [
    "     18. What is the \"diamond problem\" in multiple inheritance, and how does Python address it?"
   ]
  },
  {
   "cell_type": "code",
   "execution_count": 14,
   "id": "1ba98d2e-53c9-4915-a671-11be9261165f",
   "metadata": {},
   "outputs": [],
   "source": [
    "#The diamond problem is an ambiguity that is arisen when there are two classes say B and C that inherit / are derived from a \n",
    "#single class A, and there is another class D, that is a class derived from multiple inheritance and inherits from B as well as C."
   ]
  },
  {
   "cell_type": "markdown",
   "id": "6db808a8-d507-4c7e-93f4-59e354b1f788",
   "metadata": {},
   "source": [
    "     19. Discuss the concept of \"is-a\" and \"has-a\" relationships in inheritance, and provide examples of each."
   ]
  },
  {
   "cell_type": "code",
   "execution_count": 16,
   "id": "273da1fc-24ed-4c2f-8fbd-5fa557be03ad",
   "metadata": {},
   "outputs": [],
   "source": [
    "#An IS-A relationship is inheritance. The classes which inherit are known as sub classes or child classes. \n",
    "#On the other hand, HAS-A relationship is composition.\n",
    "\n",
    "#In OOP, IS-A relationship is completely inheritance. This means, that the child class is a type of parent class.\n",
    "#For example, an apple is a fruit. So you will extend fruit to get apple.\n",
    "\n",
    "#class Apple extends Fruit {\n",
    "\n",
    "#}\n",
    "#On the other hand, composition means creating instances which have references to other objects.\n",
    "#For example, a room has a table. So you will create a class room and then in that class create an instance of type table.\n",
    "\n",
    "#class Room {\n",
    "\n",
    "#    Table table = new Table();\n",
    "\n",
    "#}\n",
    "#A HAS-A relationship is dynamic (run time) binding while inheritance is a static (compile time) binding. \n",
    "#If you just want to reuse the code and you know that the two are not of same kind use composition. \n",
    "#For example, you cannot inherit an oven from a kitchen. A kitchen HAS-A oven. \n",
    "#When you feel there is a natural relationship like Apple is a Fruit use inheritance."
   ]
  },
  {
   "cell_type": "markdown",
   "id": "52d921cd-3bdf-4c96-9f3b-2ce7325a5662",
   "metadata": {},
   "source": [
    "    20. Create a Python class hierarchy for a university system. Start with a base class `Person` and create child\n",
    "        classes `Student` and `Professor`, each with their own attributes and methods. Provide an example of using\n",
    "        these classes in a university context."
   ]
  },
  {
   "cell_type": "code",
   "execution_count": 1,
   "id": "488151e9-e290-4566-b05c-e816d4f103dc",
   "metadata": {},
   "outputs": [
    {
     "name": "stdout",
     "output_type": "stream",
     "text": [
      "Person name :  Tomas Wild\n",
      "Person age =  37\n",
      "-------------------------------\n",
      "Student name :  Albert\n",
      "Student age =  23\n",
      "Student section =  Mathematics\n"
     ]
    }
   ],
   "source": [
    "class Person:\n",
    "    # define constructor with name and age as parameters\n",
    "    def __init__(self, name, age):\n",
    "        self.name = name\n",
    "        self.age = age\n",
    "    # create display method fro Person class\n",
    "    def display(self):\n",
    "        print(\"Person name : \", self.name)\n",
    "        print(\"Person age = \", self.age)\n",
    "    \n",
    "# create child class Student of Person class\n",
    "class Student(Person):\n",
    "    # define constructor of Student class with section additional parameters \n",
    "    def __init__(self, name , age , section):\n",
    "        Person.__init__(self,name, age)\n",
    "        self.section = section\n",
    "    \n",
    "    # Create display method for Student class\n",
    "    def displayStudent(self):\n",
    "        print(\"Student name : \", self.name)\n",
    "        print(\"Student age = \", self.age)\n",
    "        print(\"Student section = \", self.section)\n",
    "    \n",
    "# Testing Person class\n",
    "P = Person(\"Tomas Wild\", 37)\n",
    "P.display()\n",
    "print(\"-------------------------------\")\n",
    "S = Student(\"Albert\", 23 , \"Mathematics\")\n",
    "S.displayStudent()"
   ]
  },
  {
   "cell_type": "markdown",
   "id": "b3f2050c-5716-4174-b723-dda085dba1ec",
   "metadata": {},
   "source": [
    "                                                      Encapsulation:"
   ]
  },
  {
   "cell_type": "markdown",
   "id": "12dd5ca7-8927-4568-b3d4-96a3d84902f8",
   "metadata": {},
   "source": [
    "      1. Explain the concept of encapsulation in Python. What is its role in object-oriented programming?"
   ]
  },
  {
   "cell_type": "code",
   "execution_count": 2,
   "id": "b2ef7a99-7dd4-4ec8-8dec-031cf0e078a1",
   "metadata": {},
   "outputs": [],
   "source": [
    "#Encapsulation is one of the fundamental concepts in object-oriented programming (OOP).\n",
    "#It describes the idea of wrapping data and the methods that work on data within one unit. \n",
    "#This puts restrictions on accessing variables and methods directly and can prevent the accidental modification of data. \n",
    "#To prevent accidental change, an object’s variable can only be changed by an object’s method.\n",
    "#Those types of variables are known as private variables.\n",
    "\n",
    "#A class is an example of encapsulation as it encapsulates all the data that is member functions, variables, etc. \n",
    "#The goal of information hiding is to ensure that an object’s state is always valid by controlling access to attributes \n",
    "#that are hidden from the outside world.Consider a real-life example of encapsulation, in a company, \n",
    "#there are different sections like the accounts section, finance section, sales section etc. \n",
    "#The finance section handles all the financial transactions and keeps records of all the data related to finance.\n",
    "#Similarly, the sales section handles all the sales-related activities and keeps records of all the sales. \n",
    "#Now there may arise a situation when due to some reason an official from the finance section needs all \n",
    "#the data about sales in a particular month. In this case, he is not allowed to directly access the data of the sales section. \n",
    "#He will first have to contact some other officer in the sales section and then request him to give the particular data.\n",
    "#This is what encapsulation is. \n",
    "#Here the data of the sales section and the employees that can manipulate them are wrapped under a single name “sales section”. \n",
    "#Using encapsulation also hides the data. \n",
    "#In this example, the data of the sections like sales, finance, or accounts are hidden from any other section.\n"
   ]
  },
  {
   "cell_type": "markdown",
   "id": "88013ed9-10aa-487a-bfcd-e2f88ec44c22",
   "metadata": {},
   "source": [
    "     2. Describe the key principles of encapsulation, including access control and data hiding."
   ]
  },
  {
   "cell_type": "code",
   "execution_count": 3,
   "id": "2a02dba2-3f16-4e8c-aa9e-7fbb76fb37b7",
   "metadata": {},
   "outputs": [],
   "source": [
    "#Data encapsulation targets how the data is accessed and how different objects behave. \n",
    "#Data hiding focuses on object member accessibility within a class, and information hiding is the most common encapsulation method.\n",
    "#The programmer conceals the object member's structure and its implementation methods."
   ]
  },
  {
   "cell_type": "markdown",
   "id": "00bca5ba-c794-40d1-8478-5d851bdb2c1a",
   "metadata": {},
   "source": [
    "    3. How can you achieve encapsulation in Python classes? Provide an example."
   ]
  },
  {
   "cell_type": "code",
   "execution_count": 7,
   "id": "b277d0ee-8a65-42c9-ad71-6fd4192c4b3f",
   "metadata": {},
   "outputs": [
    {
     "name": "stdout",
     "output_type": "stream",
     "text": [
      "Name:  Jessa Salary: 10000\n",
      "Name:  Jessa Salary: 10000\n"
     ]
    }
   ],
   "source": [
    "#Encapsulation can be achieved by declaring the data members and methods of a class either as private or protected.\n",
    "#But In Python, we don’t have direct access modifiers like public, private, and protected.\n",
    "#We can achieve this by using single underscore and double underscores.\n",
    "\n",
    "#Access modifiers limit access to the variables and methods of a class. \n",
    "#Python provides three types of access modifiers private, public, and protected.\n",
    "\n",
    "\n",
    "#Public Member: Accessible anywhere from otside oclass.\n",
    "#Private Member: Accessible within the class\n",
    "#Protected Member: Accessible within the class and its sub-classes\n",
    "\n",
    "#for example:\n",
    "class Employee:\n",
    "    # constructor\n",
    "    def __init__(self, name, salary):\n",
    "        # public data members\n",
    "        self.name = name\n",
    "        self.salary = salary\n",
    "\n",
    "    # public instance methods\n",
    "    def show(self):\n",
    "        # accessing public data member\n",
    "        print(\"Name: \", self.name, 'Salary:', self.salary)\n",
    "\n",
    "# creating object of a class\n",
    "emp = Employee('Jessa', 10000)\n",
    "\n",
    "# accessing public data members\n",
    "print(\"Name: \", emp.name, 'Salary:', emp.salary)\n",
    "\n",
    "# calling public method of the class\n",
    "emp.show()"
   ]
  },
  {
   "cell_type": "markdown",
   "id": "60c9747a-a779-48c9-ae31-da0df45b3a06",
   "metadata": {},
   "source": [
    "     4. Discuss the difference between public, private, and protected access modifiers in Python."
   ]
  },
  {
   "cell_type": "code",
   "execution_count": 8,
   "id": "a33f7d5d-a70a-4448-b5d8-5fe72ef40849",
   "metadata": {},
   "outputs": [],
   "source": [
    "#Python uses a specific naming convention to make any variables/methods protected and private inside the class and all \n",
    "#the variables and methods defined inside the Python class are public by default.\n",
    "\n",
    "#Public data attributes are accessible by any class and function, protected data attributes should only be accessed inside\n",
    "#the class environment and can also be accessed inside the sub-classes and private data attributes are only accessible inside the class.\n",
    "\n",
    "#We have learned about the public, protected, and private access modifiers that are used to impose restrictions on accessing \n",
    "#the variables and methods of the Python class.\n",
    "\n"
   ]
  },
  {
   "cell_type": "markdown",
   "id": "57b9a3d2-7017-4f9d-bdce-111475de6940",
   "metadata": {},
   "source": [
    "    5. Create a Python class called `Person` with a private attribute `__name`. Provide methods to get and set the\n",
    "       name attribute."
   ]
  },
  {
   "cell_type": "code",
   "execution_count": 16,
   "id": "62d2c2c9-2fd8-47c4-9b2c-289765d6b6fd",
   "metadata": {},
   "outputs": [
    {
     "name": "stdout",
     "output_type": "stream",
     "text": [
      "Anders Rossum\n",
      "Rossum, Anders\n"
     ]
    }
   ],
   "source": [
    "class Person(object):\n",
    "    def __init__(self, first_name, last_name):\n",
    "        \"\"\"\n",
    "        Constructor function that sets properties\n",
    "        \"\"\"\n",
    "        self.first_name = first_name\n",
    "        self.last_name = last_name\n",
    "        self.full_name = self.first_name + \" \" + self.last_name\n",
    "        self.name = self.last_name + \", \" + self.first_name\n",
    "\n",
    "if __name__ == \"__main__\":\n",
    "    person1 = Person(\"Anders\", \"Rossum\")\n",
    "    print(person1.full_name) # Anders Rossum\n",
    "    print(person1.name)      # Rossum, Anders\n",
    "    "
   ]
  },
  {
   "cell_type": "markdown",
   "id": "58e5c028-7834-4463-9b10-14de9ed0fc92",
   "metadata": {},
   "source": [
    "    6. Explain the purpose of getter and setter methods in encapsulation. Provide examples."
   ]
  },
  {
   "cell_type": "code",
   "execution_count": 1,
   "id": "5d5135fc-8d07-492a-b2c5-e1d60c290da6",
   "metadata": {},
   "outputs": [
    {
     "name": "stdout",
     "output_type": "stream",
     "text": [
      "21\n",
      "21\n"
     ]
    }
   ],
   "source": [
    "#In Python, getters and setters are not the same as those in other object-oriented programming languages. \n",
    "#Basically, the main purpose of using getters and setters in object-oriented programs is to ensure data encapsulation. \n",
    "#Private variables in python are not actually hidden fields like in other object oriented languages. \n",
    "#Getters and Setters in python are often used when:\n",
    "\n",
    "#We use getters & setters to add validation logic around getting and setting a value.\n",
    "#To avoid direct access of a class field i.e. private variables cannot be accessed directly or modified by external user.\n",
    "#Using normal function to achieve getters and setters behaviour\n",
    "\n",
    "#To achieve getters & setters property, if we define normal get() and set() methods it will not reflect any special implementation. \n",
    "#For Example :\n",
    "# Python program showing a use \n",
    "# of get() and set() method in \n",
    "# normal function \n",
    "\n",
    "class Geek: \n",
    "\tdef __init__(self, age = 0): \n",
    "\t\tself._age = age \n",
    "\t\n",
    "\t# getter method \n",
    "\tdef get_age(self): \n",
    "\t\treturn self._age \n",
    "\t\n",
    "\t# setter method \n",
    "\tdef set_age(self, x): \n",
    "\t\tself._age = x \n",
    "\n",
    "raj = Geek() \n",
    "\n",
    "# setting the age using setter \n",
    "raj.set_age(21) \n",
    "\n",
    "# retrieving age using getter \n",
    "print(raj.get_age()) \n",
    "\n",
    "print(raj._age) \n"
   ]
  },
  {
   "cell_type": "markdown",
   "id": "ae40be27-2f46-4e5d-bde4-128c5afcc485",
   "metadata": {},
   "source": [
    "    7. What is name mangling in Python, and how does it affect encapsulation?"
   ]
  },
  {
   "cell_type": "code",
   "execution_count": 2,
   "id": "e98066b1-5c3e-42ec-8664-43fd506b68a4",
   "metadata": {},
   "outputs": [],
   "source": [
    "#In Python, mangling is used for class attributes that one does not want subclasses to use[8] which are designated as such by giving them a name\n",
    "#with two or more leading underscores and no more than one trailing underscore. \n",
    "#For example, __thing will be mangled, as will ___thing and __thing_, but __thing__ and __thing___ will not. \n",
    "#Python's runtime does not restrict access to such attributes, the mangling only prevents name collisions if a derived class defines \n",
    "#an attribute with the same name.\n",
    "\n",
    "#On encountering name mangled attributes, Python transforms these names by prepending a single underscore and \n",
    "#the name of the enclosing class, for example:\n",
    "\n",
    "#>>> class Test:\n",
    "#...     def __mangled_name(self):\n",
    "#...         pass\n",
    "#...     def normal_name(self):\n",
    "#...         pass\n",
    "#>>> t = Test()\n",
    "#>>> [attr for attr in dir(t) if \"name\" in attr]\n",
    "#['_Test__mangled_name', 'normal_name']"
   ]
  },
  {
   "cell_type": "markdown",
   "id": "e2add2b8-801a-4760-b1fb-f7775a0af166",
   "metadata": {},
   "source": [
    "    8. Create a Python class called `BankAccount` with private attributes for the account balance (`__balance`)"
   ]
  },
  {
   "cell_type": "code",
   "execution_count": 3,
   "id": "46cc5918-1a8c-47bd-ba55-1ebac6dacdea",
   "metadata": {},
   "outputs": [
    {
     "name": "stdout",
     "output_type": "stream",
     "text": [
      "Hello!!! Welcome to the Deposit & Withdrawal Machine\n"
     ]
    },
    {
     "name": "stdin",
     "output_type": "stream",
     "text": [
      "Enter amount to be Deposited:  5000\n"
     ]
    },
    {
     "name": "stdout",
     "output_type": "stream",
     "text": [
      "\n",
      " Amount Deposited: 5000.0\n"
     ]
    },
    {
     "name": "stdin",
     "output_type": "stream",
     "text": [
      "Enter amount to be Withdrawn:  3000\n"
     ]
    },
    {
     "name": "stdout",
     "output_type": "stream",
     "text": [
      "\n",
      " You Withdrew: 3000.0\n",
      "\n",
      " Net Available Balance= 2000.0\n"
     ]
    }
   ],
   "source": [
    "# Python program to create Bankaccount class\n",
    "# with both a deposit() and a withdraw() function\n",
    "class Bank_Account:\n",
    "\tdef __init__(self):\n",
    "\t\tself.balance=0\n",
    "\t\tprint(\"Hello!!! Welcome to the Deposit & Withdrawal Machine\")\n",
    "\n",
    "\tdef deposit(self):\n",
    "\t\tamount=float(input(\"Enter amount to be Deposited: \"))\n",
    "\t\tself.balance += amount\n",
    "\t\tprint(\"\\n Amount Deposited:\",amount)\n",
    "\n",
    "\tdef withdraw(self):\n",
    "\t\tamount = float(input(\"Enter amount to be Withdrawn: \"))\n",
    "\t\tif self.balance>=amount:\n",
    "\t\t\tself.balance-=amount\n",
    "\t\t\tprint(\"\\n You Withdrew:\", amount)\n",
    "\t\telse:\n",
    "\t\t\tprint(\"\\n Insufficient balance \")\n",
    "\n",
    "\tdef display(self):\n",
    "\t\tprint(\"\\n Net Available Balance=\",self.balance)\n",
    "\n",
    "# Driver code\n",
    "\n",
    "# creating an object of class\n",
    "s = Bank_Account()\n",
    "\n",
    "# Calling functions with that class object\n",
    "s.deposit()\n",
    "s.withdraw()\n",
    "s.display()\n"
   ]
  },
  {
   "cell_type": "markdown",
   "id": "0e64bbce-e7c6-4d8d-bf25-8716c18ba717",
   "metadata": {},
   "source": [
    "    9. Discuss the advantages of encapsulation in terms of code maintainability and security."
   ]
  },
  {
   "cell_type": "code",
   "execution_count": 4,
   "id": "2c07af51-3fcd-41ae-81da-3c28c245e812",
   "metadata": {},
   "outputs": [],
   "source": [
    "#Advantages of Encapsulation in Python\n",
    "#Prevents accidental data modification by using private and protected access levels. \n",
    "#Helps to enhance security by keeping the code/logic safe from external inheritance. \n",
    "#Bundling data and methods within a class makes code more readable and maintainable"
   ]
  },
  {
   "cell_type": "markdown",
   "id": "271738dc-6f0c-4f58-810a-33642156f4cb",
   "metadata": {},
   "source": [
    "    10. How can you access private attributes in Python? Provide an example demonstrating the use of name mangling."
   ]
  },
  {
   "cell_type": "code",
   "execution_count": 8,
   "id": "a22a20f9-7bf6-45ec-9f65-34142b59e1b3",
   "metadata": {},
   "outputs": [
    {
     "name": "stdout",
     "output_type": "stream",
     "text": [
      "Santhosh\n"
     ]
    }
   ],
   "source": [
    "#In name mangling process any identifier with two leading underscore and one trailing underscore is textually \n",
    "#replaced with _classname__identifier where classname is the name of the current class. \n",
    "#It means that any identifier of the form __geek (at least two leading underscores or at most one trailing underscore)\n",
    "#is replaced with _classname__geek, where classname is the current class name with leading underscore(s) stripped.\n",
    "# Python program to demonstrate \n",
    "# name mangling \n",
    "\n",
    "\n",
    "class Student: \n",
    "\tdef __init__(self, name): \n",
    "\t\tself.__name = name \n",
    "\n",
    "s1 = Student(\"Santhosh\") \n",
    "print(s1._Student__name) \n",
    " \n"
   ]
  },
  {
   "cell_type": "markdown",
   "id": "91af9214-6fc5-49b3-b298-9ef995d05dac",
   "metadata": {},
   "source": [
    "    11. Create a Python class hierarchy for a school system, including classes for students, teachers, and courses,\n",
    "    and implement encapsulation principles to protect sensitive information."
   ]
  },
  {
   "cell_type": "code",
   "execution_count": 9,
   "id": "a37d7bce-62c4-411a-b0b7-e9267dce2345",
   "metadata": {},
   "outputs": [
    {
     "name": "stdout",
     "output_type": "stream",
     "text": [
      "I am Steve\n",
      "I got Rank  1\n",
      "I am Chris\n",
      "I got Rank  2\n",
      "I am Mark\n",
      "I got Rank  3\n",
      "I am Kate\n",
      "I got Rank  4\n"
     ]
    }
   ],
   "source": [
    "#Encapsulation is one of the key concepts of object-oriented languages like Python, Java, etc. \n",
    "#Encapsulation is used to restrict access to methods and variables. \n",
    "#In encapsulation, code and data are wrapped together within a single unit from being modified by accident.\n",
    "\n",
    "#Encapsulation is a mechanism of wrapping the data (variables) and code acting on the data (methods) together as a single unit.\n",
    "#In encapsulation, the variables of a class will be hidden from other classes, and can be accessed only through the methods of their current class.\n",
    "\n",
    "#Encapsulation Example\n",
    "#Let’s say we have a company selling courses to students, engineers and professionals.\n",
    "#The different sections of this company include, operations, finance, accounts, sales, etc. \n",
    "#Now, if an employee from the accounts section needs the records of sales in 2022, then he/ she cannot directly access it.\n",
    "\n",
    "#To access, the employee of the account sections needs to get permission from the sales section team member. \n",
    "#Therefore, the sales data is hidden from other departments, In the same way, the financials of \n",
    "#the company is accessible to only the finance data and is hidden from other sections. \n",
    "#The accounts, sales, finance, operations, marketing, etc. data is hidden from other sections\n",
    "\n",
    "#Implement Encapsulation with a Class in Python\n",
    "#Another example of Encapsulation can be a class because a class combines data and methods into a single unit. \n",
    "#Here, the custom function demofunc() displays the records of students wherein we can access public data member.\n",
    "#Using the objects st1, st2, st3, st4, we have access ed the public methods of the class demofunc() −\n",
    "\n",
    "#Example\n",
    "class Students:\n",
    "   def __init__(self, name, rank, points):\n",
    "      self.name = name\n",
    "      self.rank = rank\n",
    "      self.points = points\n",
    "\n",
    "   # custom function\n",
    "   def demofunc(self):\n",
    "      print(\"I am \"+self.name)\n",
    "      print(\"I got Rank \",+self.rank)\n",
    "\n",
    "# create 4 objects\n",
    "st1 = Students(\"Steve\", 1, 100)\n",
    "st2 = Students(\"Chris\", 2, 90)\n",
    "st3 = Students(\"Mark\", 3, 76)\n",
    "st4 = Students(\"Kate\", 4, 60)\n",
    "\n",
    "# call the functions using the objects created above\n",
    "st1.demofunc()\n",
    "st2.demofunc()\n",
    "st3.demofunc()\n",
    "st4.demofunc()\n"
   ]
  },
  {
   "cell_type": "markdown",
   "id": "d620d00a-c12a-4a34-95a7-cf9b44f1cff6",
   "metadata": {},
   "source": [
    "     12. Explain the concept of property decorators in Python and how they relate to encapsulation."
   ]
  },
  {
   "cell_type": "code",
   "execution_count": 10,
   "id": "997a8ca9-c5e6-46c0-97ee-606a1bc82a04",
   "metadata": {},
   "outputs": [],
   "source": [
    "#When we discussed encapsulation in classes, we saw that a class’s data fields should be kept as private fields, \n",
    "#with getter and setter methods being provided to access or change them. \n",
    "#We saw one way of implementing encapsulation by writing explicit class methods for reading and writing a class variable. \n",
    "#There is a somewhat cleaner method of doing this in Python, by the use of a decorator.\n",
    "\n",
    "#We’ll study decorators in more detail in another post. \n",
    "#For now, all you need to know that a decorator provides a way of adding some extra functionality to a function, class or class method.\n",
    "#It’s possible to write your own decorators (which we’ll get to later), however, there are several built-in decorators that you can use directly.\n",
    "#One of these is the property decorator, which facilitates encapsulation within a class.\n",
    "\n",
    "#As usual, it’s easiest to see how a property decorator works by looking at a specific example. \n",
    "#Here’s a Person class which stores the first, middle and last names of a person."
   ]
  },
  {
   "cell_type": "markdown",
   "id": "fbf6a724-44e3-45fa-9714-07cc5257cfd8",
   "metadata": {},
   "source": [
    "    13. What is data hiding, and why is it important in encapsulation? Provide examples."
   ]
  },
  {
   "cell_type": "code",
   "execution_count": 16,
   "id": "77b7287e-1d96-4420-8057-959f0845edf3",
   "metadata": {},
   "outputs": [
    {
     "name": "stdout",
     "output_type": "stream",
     "text": [
      "1\n",
      "2\n",
      "2\n"
     ]
    }
   ],
   "source": [
    "#Data hiding is a concept which underlines the hiding of data or information from the user. \n",
    "#It is one of the key aspects of Object-Oriented programming strategies. It includes object details such as data members, internal work. \n",
    "#Data hiding excludes full data entry to class members and defends object integrity by preventing unintended changes. \n",
    "#Data hiding also minimizes system complexity for increase robustness by limiting interdependencies between software requirements. \n",
    "#Data hiding is also known as information hiding. \n",
    "#In class, if we declare the data members as private so that no other class can access the data members, then it is a process of hiding data.\n",
    "\n",
    "#Data Hiding in Python:\n",
    "\n",
    "#The Python document introduces Data Hiding as isolating the user from a part of program implementation.\n",
    "#Some objects in the module are kept internal, unseen, and unreachable to the user. \n",
    "#Modules in the program are easy enough to understand how to use the application, but the client cannot know how the application functions.\n",
    "#Thus, data hiding imparts security, along with discarding dependency.\n",
    "#Data hiding in Python is the technique to defend access to specific users in the application. \n",
    "#Python is applied in every technical area and has a user-friendly syntax and vast libraries. \n",
    "#Data hiding in Python is performed using the __ double underscore before done prefix. \n",
    "#This makes the class members non-public and isolated from the other classes.\n",
    "\n",
    "\n",
    "#for example:\n",
    "\n",
    "\n",
    "class Solution:\n",
    "\t__privateCounter = 0\n",
    "\n",
    "\tdef sum(self):\n",
    "\t\tself.__privateCounter += 1\n",
    "\t\tprint(self.__privateCounter)\n",
    "\n",
    "\n",
    "count = Solution()\n",
    "count.sum()\n",
    "count.sum()\n",
    "\n",
    "# Here we have accessed the private data\n",
    "# member through class name.\n",
    "print(count._Solution__privateCounter)\n"
   ]
  },
  {
   "cell_type": "markdown",
   "id": "c7ea4ff6-30c9-4eef-8d8a-57472f1ef384",
   "metadata": {},
   "source": [
    "    14. Create a Python class called `Employee` with private attributes for salary (`__salary`) and employee ID (`__employee_id`).\n",
    "    Provide a method to  calculate yearly bonuses."
   ]
  },
  {
   "cell_type": "code",
   "execution_count": 20,
   "id": "c352d106-b625-4266-bb3f-d4990dc0ba4f",
   "metadata": {},
   "outputs": [
    {
     "name": "stdin",
     "output_type": "stream",
     "text": [
      "Enter employee ID:  10\n",
      "Enter first name:  bhavesh\n",
      "Enter last name:  prajapati\n",
      "Enter job title:  data science\n",
      "Enter department:  it field\n",
      "Enter start date:  3/12/2022\n",
      "Enter email:  pndsvbmj@jfhvn\n",
      "Enter contact:  8555555665\n",
      "Enter full-time employee salary:  50000\n"
     ]
    },
    {
     "name": "stdout",
     "output_type": "stream",
     "text": [
      "Full-time employee salary: 50000.0\n"
     ]
    }
   ],
   "source": [
    "class Employee:\n",
    "    \n",
    "    def __init__(self, employee_id, first_name, last_name, job_title, department, start_date, email, contact):\n",
    "       \n",
    "        self.employee_id = employee_id\n",
    "        self.first_name = first_name\n",
    "        self.last_name = last_name\n",
    "        self.job_title = job_title\n",
    "        self.department = department\n",
    "        self.start_date = start_date\n",
    "        self.email = email\n",
    "        self.contact = contact\n",
    "        self.salary = 0\n",
    "        \n",
    "    def set_salary(self, salary):\n",
    "        \n",
    "        self.salary = salary\n",
    "        \n",
    "    def get_salary(self):\n",
    "       \n",
    "        return self.salary\n",
    "    \n",
    "class FullTimeEmployee(Employee):\n",
    "    \n",
    "    def __init__(self, employee_id, first_name, last_name, job_title, department, start_date, email, contact):\n",
    "        \n",
    "        super().__init__(employee_id, first_name, last_name, job_title, department, start_date, email, contact)\n",
    "        self.salary = 0\n",
    "        \n",
    "\n",
    "        \n",
    "# Accept user input for each employee subclass\n",
    "ft_employee = FullTimeEmployee(int(input(\"Enter employee ID: \")), input(\"Enter first name: \"), input(\"Enter last name: \"), input(\"Enter job title: \"), input(\"Enter department: \"), input(\"Enter start date: \"), input(\"Enter email: \"), input(\"Enter contact: \"))\n",
    "\n",
    "# Set attribute values for each employee subclass\n",
    "ft_employee.set_salary(float(input(\"Enter full-time employee salary: \")))\n",
    "\n",
    "# Print the salary of each employee subclass\n",
    "print(f\"Full-time employee salary: {ft_employee.get_salary()}\")\n"
   ]
  },
  {
   "cell_type": "markdown",
   "id": "627cbad1-23f6-4f03-acc6-da8ab456a712",
   "metadata": {},
   "source": [
    "    15. Discuss the use of accessors and mutators in encapsulation. How do they help maintain control over attribute access?"
   ]
  },
  {
   "cell_type": "code",
   "execution_count": 21,
   "id": "bea7cc2f-f04e-4532-871a-9d6fab30d88a",
   "metadata": {},
   "outputs": [
    {
     "name": "stdout",
     "output_type": "stream",
     "text": [
      "John\n",
      "Jane\n"
     ]
    }
   ],
   "source": [
    "#Accessor and mutator methods in Python are used to access the private data of a class which cannot be accessed from outside the class.\n",
    "#In object oriented programming the class object data is encapsulated i.e\n",
    "#the object data is kept private and cannot be accessed from outside the object.\n",
    "#The access to these private data from outside the object is provided using the Accessor and mutator method in python.\n",
    "#These methods are also known as getter and setter methods in python. \n",
    "#In this article we will understand Accessor and mutator methods with help of examples.\n",
    "\n",
    "#Accessor Methods:\n",
    "#Accessor method is used to access object data. The private variables of the object can be accessed using the accessor methods. \n",
    "#The accessor methods are declared public methods which return private member data of an object. \n",
    "#The Accessor methods are also called getter methods as they are used to get an object data.\n",
    "\n",
    "#In Python the accessor method is defined using @property decorator. \n",
    "#When the accessor method is called it returns the private member variable value of the object.\n",
    "\n",
    "#Example:-\n",
    "#In the below example we will define a class Person with a private variable _name. \n",
    "#We then create a name accessor method which returns the value of the _name variable which is a private member variable of Person class.\n",
    "#We can access the _name attribute value by creating a person object and accessing the value using the name accessor method.\n",
    "\n",
    "class Person:\n",
    "   def __init__(self, name):\n",
    "      self.__name = name\n",
    "\n",
    "   @property\n",
    "   def name(self):\n",
    "      return self.__name\n",
    "\n",
    "person = Person(\"John\")\n",
    "print(person.name)\n",
    "\n",
    "#Mutator Method:-\n",
    "#Mutator methods are used to modify an object's private data.\n",
    "#Mutator methods are also called setter methods as they are used to set/modify the value of an object private variable.\n",
    "#Mutator methods are declared private which modifies the private value of the object variables.\n",
    "\n",
    "#In python mutator methods are defined using the @.setter decorator which specifies that the particular method behaves like a setter method.\n",
    "#When the mutator method is called it sets the value of the object private variable.\n",
    "\n",
    "#Example:-\n",
    "#In the below example we define a Person class which has a private _name variable. \n",
    "#We also define a name accessor method and a name mutator method using @property and @name.setter decorator respectively.\n",
    "#The name mutator method modifies the value of the _name variable when a value parameter is passed to it while calling the function.\n",
    "\n",
    "class Person:\n",
    "   def __init__(self, name):\n",
    "      self.__name = name\n",
    "\n",
    "   @property\n",
    "   def name(self):\n",
    "      return self.__name\n",
    "\n",
    "   @name.setter\n",
    "   def name(self, value):\n",
    "      self.__name = value\n",
    "\n",
    "person = Person(\"John\")\n",
    "person.name = \"Jane\"\n",
    "print(person.name)  \n",
    "\n"
   ]
  },
  {
   "cell_type": "markdown",
   "id": "c23630ba-c474-46c6-9ae9-e45ddd18dccd",
   "metadata": {},
   "source": [
    "     16. What are the potential drawbacks or disadvantages of using encapsulation in Python?"
   ]
  },
  {
   "cell_type": "code",
   "execution_count": 22,
   "id": "96c62cb6-6b63-4090-85c5-a385d658fb31",
   "metadata": {},
   "outputs": [],
   "source": [
    "#Advantages of Encapsulation:-\n",
    "#Data Protection: \n",
    " #   The program runner will not be able to identify or see which methods are present in the code.\n",
    " #   Therefore he/she doesn’t get any chance to change any specific variable or data and hinder the running of the program.\n",
    "\n",
    "#Flexibility:\n",
    "#The code which is encapsulated looks more cleaner and flexible, and can be changed as per the needs. \n",
    "#We can change the code read-only or write-only by getter and setter methods. \n",
    "#This also helps in debugging the code if needed.\n",
    "\n",
    "#Reusability:\n",
    "#The methods can be changed and the code is reusable.\n",
    "\n",
    "#Disadvantages of Encapsulation:-\n",
    "\n",
    "#Code Size:\n",
    "    #The length of the code increases drastically in the case of encapsulation as we need to provide all the methods with the specifiers.\n",
    "\n",
    "#More Instructions: \n",
    " #   As the size of the code increases, therefore, you need to provide additional instructions for every method.\n",
    "\n",
    "#Increased code execution: \n",
    " #   Encapsulation results in an increase in the duration of the program execution. \n",
    "    #It is because more instructions are added to the code therefore they require more time to execute."
   ]
  },
  {
   "cell_type": "markdown",
   "id": "a892f5be-cf57-47bb-ac3a-59956d3f0908",
   "metadata": {},
   "source": [
    "    17. Create a Python class for a library system that encapsulates book information, including titles, authors, and availability status."
   ]
  },
  {
   "cell_type": "code",
   "execution_count": 26,
   "id": "8d438d32-5b3c-448b-bc2f-1a313eedb4c8",
   "metadata": {},
   "outputs": [],
   "source": [
    "class Book:\n",
    "    def __init__(self, author, title, book_id):\n",
    "        self.author = author\n",
    "        self.title = title\n",
    "        self.book_id = book_id\n",
    "\n",
    "    def __str__(self):\n",
    "        return 'Book(author, title, book_id)'\n",
    "\n",
    "    def __repr__(self):\n",
    "\n",
    "        return 'Book(author, title, book_id)'\n",
    "\n",
    "    def __eq__(self, other):\n",
    "\n",
    "    #Not sure if this is the right approach\n",
    "\n",
    "        for title in Book:\n",
    "            for title in Book:\n",
    "                if title == title:\n",
    "                    if author == author:\n",
    "                        if book_id == book_id:\n",
    "                            return True \n"
   ]
  },
  {
   "cell_type": "markdown",
   "id": "cb09ab5b-bd5d-4d8e-b91b-e0f5b9c4e8c7",
   "metadata": {},
   "source": [
    "    18. Explain how encapsulation enhances code reusability and modularity in Python programs."
   ]
  },
  {
   "cell_type": "code",
   "execution_count": 27,
   "id": "693af809-be04-459e-858b-796a717748ec",
   "metadata": {},
   "outputs": [],
   "source": [
    "#Modularity and Reusability: OOP promotes the creation of modular pieces of code, encapsulated in objects and classes. \n",
    "#This modularity facilitates code reusability. \n",
    "#For example, once you create a 'Car' class with all its attributes and methods,\n",
    "#you can instantiate countless car objects without rewriting the base logic"
   ]
  },
  {
   "cell_type": "markdown",
   "id": "c7222669-b1fa-4c2c-98d6-4eba83152d3b",
   "metadata": {},
   "source": [
    "     19. Describe the concept of information hiding in encapsulation. Why is it essential in software development?"
   ]
  },
  {
   "cell_type": "code",
   "execution_count": 28,
   "id": "d1920b90-3bbf-4cbf-9557-315390d1a2b2",
   "metadata": {},
   "outputs": [],
   "source": [
    "#Information Hiding:-\n",
    "#1. A design principle to hide implementation details and unintended modification to data\n",
    "#2.Strictly uses the private access modifier\n",
    "#3. Helps to achieve defensive programming\n",
    "\n",
    "#Encapsulation :-\n",
    "#1. An object-oriented principle that bundles data with functions operating on them.\n",
    "#2. Not strict on access modifiers and can use a public, private, or protected access modifier.\n",
    "#3. A methodology to achieve information-hiding"
   ]
  },
  {
   "cell_type": "markdown",
   "id": "52573493-4871-4a20-9897-662c50af7e14",
   "metadata": {},
   "source": [
    "    20. Create a Python class called `Customer` with private attributes for customer details like name, address, and contact \n",
    "    information. Implement encapsulation to ensure data integrity and security."
   ]
  },
  {
   "cell_type": "code",
   "execution_count": 13,
   "id": "705ee3b5-e26a-4b6b-9272-84a36cd5dc43",
   "metadata": {},
   "outputs": [
    {
     "name": "stdout",
     "output_type": "stream",
     "text": [
      "bhavesh\n",
      "ahmedabad\n",
      "81555456578\n"
     ]
    }
   ],
   "source": [
    "class customer:\n",
    "    def __init__(self,name,address,contact):\n",
    "        self.__name = name\n",
    "        self.__address = address\n",
    "        self.__contact = contact\n",
    "s1 = customer('bhavesh','ahmedabad',81555456578)\n",
    "print(s1._customer__name)\n",
    "print(s1._customer__address)\n",
    "print(s1._customer__contact)\n",
    "\n",
    "#In Python, encapsulation is implemented using access modifiers and properties.\n",
    "#Access modifiers, such as public, private, and protected, determine \n",
    "#the level of access that other codes can have to the data and methods within an object."
   ]
  },
  {
   "cell_type": "markdown",
   "id": "f6d40e63-5016-4395-885f-959cb53634b4",
   "metadata": {},
   "source": [
    "                                                                  Polymorphism:"
   ]
  },
  {
   "cell_type": "markdown",
   "id": "19bf1188-222e-4b65-b0d4-00170c82be55",
   "metadata": {},
   "source": [
    "                1. What is polymorphism in Python? Explain how it is related to object-oriented programming."
   ]
  },
  {
   "cell_type": "code",
   "execution_count": 14,
   "id": "1e87efad-6597-4b5b-be5b-9f0ed783b13d",
   "metadata": {},
   "outputs": [],
   "source": [
    "#What is Polymorphism: -\n",
    "#The word polymorphism means having many forms. \n",
    "#In programming, polymorphism means the same function name (but different signatures) being used for different types. \n",
    "#The key difference is the data types and number of arguments used in function.\n",
    "#The word \"polymorphism\" means \"many forms\", and in programming it refers to methods/functions/operators with the same name \n",
    "#that can be executed on many objects or classes.\n",
    "\n",
    "#Function Polymorphism\n",
    "#An example of a Python function that can be used on different objects is the len() function.\n",
    "\n",
    "#String\n",
    "#For strings len() returns the number of characters:\n",
    "\n",
    "#ExampleGet your own Python Server\n",
    "#x = \"Hello World!\"\n",
    "\n",
    "#print(len(x))\n",
    "#Tuple\n",
    "#For tuples len() returns the number of items in the tuple:\n",
    "\n",
    "#Example\n",
    "#mytuple = (\"apple\", \"banana\", \"cherry\")\n",
    "\n",
    "#print(len(mytuple))\n",
    "#Dictionary\n",
    "#For dictionaries len() returns the number of key/value pairs in the dictionary:\n",
    "\n",
    "#Example\n",
    "#thisdict = {\n",
    "#  \"brand\": \"Ford\",\n",
    "#  \"model\": \"Mustang\",\n",
    "#  \"year\": 1964\n",
    "#}\n",
    "\n",
    "#print(len(thisdict))\n"
   ]
  },
  {
   "cell_type": "markdown",
   "id": "d0b436ce-b207-4de7-a6a3-f355d257b6a5",
   "metadata": {},
   "source": [
    "     2. Describe the difference between compile-time polymorphism and runtime polymorphism in Python."
   ]
  },
  {
   "cell_type": "code",
   "execution_count": 15,
   "id": "edd6f137-31ef-4a72-883b-d61039c198fb",
   "metadata": {},
   "outputs": [],
   "source": [
    "#Compile Time Polymorphism:-\n",
    "#Method overloading produces compile-time polymorphism. The phrase method overloading refers to the ability to have many methods with the same name. \n",
    "#Because this procedure occurs during build time, it is called Compile-Time Polymorphism. \n",
    "#Build-time polymorphism occurs when an object is coupled, including its functionality at compile time.\n",
    "#By inspecting the method signatures, Java determines the method to invoke at compile time.\n",
    "#As a result, this is known as compile-time polymorphism, static polymorphism, or early binding. \n",
    "#Method overloading is used to achieve compile-time polymorphism.\n",
    "#Method Overloading states that you can have many functions that share the same name in the same class, each with a distinct prototype.\n",
    "#Function overloading is a method of achieving polymorphism, although it depends on technology and the type of polymorphism used. \n",
    "#In Java, function overloading is accomplished at the compile time.\n",
    "\n",
    "#Run-Time Polymorphism:-\n",
    "#Runtime polymorphism occurs when an object is associated with functionality during runtime.\n",
    "#Method overriding can be used to provide runtime polymorphism.\n",
    "#The Java virtual machine selects the method to invoke during runtime, not at compile time. \n",
    "#It’s also known as dynamic and late binding. Method overriding indicates that the child class utilises the same function as the parent class.\n",
    "#It indicates that method overriding occurs when a child class offers a custom implementation of a method offered by another of its parent classes."
   ]
  },
  {
   "cell_type": "markdown",
   "id": "843f65b4-d687-4975-90c8-a68ea815c64d",
   "metadata": {},
   "source": [
    "       3. Create a Python class hierarchy for shapes (e.g., circle, square, triangle) and demonstrate polymorphismthrough \n",
    "       a common method, such as `calculate_area()`."
   ]
  },
  {
   "cell_type": "code",
   "execution_count": 18,
   "id": "2213d5b6-4779-44b0-b4e5-cd50f461e478",
   "metadata": {},
   "outputs": [
    {
     "name": "stdout",
     "output_type": "stream",
     "text": [
      "Radius of the circle: 7\n",
      "Circle Area: 153.93804002589985\n",
      "Circle Perimeter: 43.982297150257104\n",
      "\n",
      "Rectangle: Length = 5  Width = 7\n",
      "Rectangle Area: 35\n",
      "Rectangle Perimeter: 24\n",
      "\n",
      "Triangle: Base = 5  Height = 4  side1 = 4  side2 = 3  side3 = 5\n",
      "Triangle Area: 10.0\n",
      "Triangle Perimeter: 12\n"
     ]
    }
   ],
   "source": [
    "import math\n",
    "\n",
    "class Shape:\n",
    " \n",
    "    def calculate_area(self):\n",
    "        pass\n",
    "\n",
    " \n",
    "    def calculate_perimeter(self):\n",
    "        pass\n",
    "\n",
    "class Circle(Shape):\n",
    "    def __init__(self, radius):\n",
    "        self.radius = radius\n",
    "\n",
    "\n",
    "    def calculate_area(self):\n",
    "        return math.pi * self.radius**2\n",
    "\n",
    "    def calculate_perimeter(self):\n",
    "        return 2 * math.pi * self.radius\n",
    "\n",
    "# Define a derived class called Rectangle, which inherits from the Shape class\n",
    "class Rectangle(Shape):\n",
    "    # Initialize the Rectangle object with given length and width\n",
    "    def __init__(self, length, width):\n",
    "        self.length = length\n",
    "        self.width = width\n",
    "\n",
    "    # Calculate and return the area of the rectangle using the formula: length * width\n",
    "    def calculate_area(self):\n",
    "        return self.length * self.width\n",
    "\n",
    "    # Calculate and return the perimeter of the rectangle using the formula: 2 * (length + width)\n",
    "    def calculate_perimeter(self):\n",
    "        return 2 * (self.length + self.width)\n",
    "\n",
    "# Define a derived class called Triangle, which inherits from the Shape class\n",
    "class Triangle(Shape):\n",
    "    # Initialize the Triangle object with a base, height, and three side lengths\n",
    "    def __init__(self, base, height, side1, side2, side3):\n",
    "        self.base = base\n",
    "        self.height = height\n",
    "        self.side1 = side1\n",
    "        self.side2 = side2\n",
    "        self.side3 = side3\n",
    "\n",
    "    # Calculate and return the area of the triangle using the formula: 0.5 * base * height\n",
    "    def calculate_area(self):\n",
    "        return 0.5 * self.base * self.height\n",
    "\n",
    "    # Calculate and return the perimeter of the triangle by adding the lengths of its three sides\n",
    "    def calculate_perimeter(self):\n",
    "        return self.side1 + self.side2 + self.side3\n",
    "\n",
    "# Example usage\n",
    "# Create a Circle object with a given radius and calculate its area and perimeter\n",
    "r = 7\n",
    "circle = Circle(r)\n",
    "circle_area = circle.calculate_area()\n",
    "circle_perimeter = circle.calculate_perimeter()\n",
    "\n",
    "# Print the results for the Circle\n",
    "print(\"Radius of the circle:\", r)\n",
    "print(\"Circle Area:\", circle_area)\n",
    "print(\"Circle Perimeter:\", circle_perimeter)\n",
    "\n",
    "# Create a Rectangle object with given length and width and calculate its area and perimeter\n",
    "l = 5\n",
    "w = 7\n",
    "rectangle = Rectangle(l, w)\n",
    "rectangle_area = rectangle.calculate_area()\n",
    "rectangle_perimeter = rectangle.calculate_perimeter()\n",
    "\n",
    "# Print the results for the Rectangle\n",
    "print(\"\\nRectangle: Length =\", l, \" Width =\", w)\n",
    "print(\"Rectangle Area:\", rectangle_area)\n",
    "print(\"Rectangle Perimeter:\", rectangle_perimeter)\n",
    "\n",
    "# Create a Triangle object with a base, height, and three side lengths, and calculate its area and perimeter\n",
    "base = 5\n",
    "height = 4\n",
    "s1 = 4\n",
    "s2 = 3\n",
    "s3 = 5\n",
    "\n",
    "# Print the results for the Triangle\n",
    "print(\"\\nTriangle: Base =\", base, \" Height =\", height, \" side1 =\", s1, \" side2 =\", s2, \" side3 =\", s3)\n",
    "triangle = Triangle(base, height, s1, s2, s3)\n",
    "triangle_area = triangle.calculate_area()\n",
    "triangle_perimeter = triangle.calculate_perimeter()\n",
    "print(\"Triangle Area:\", triangle_area)\n",
    "print(\"Triangle Perimeter:\", triangle_perimeter)\n"
   ]
  },
  {
   "cell_type": "markdown",
   "id": "0f0f5cd2-12a0-4bca-ab9f-a8f3480abbbf",
   "metadata": {},
   "source": [
    "           4. Explain the concept of method overriding in polymorphism. Provide an example."
   ]
  },
  {
   "cell_type": "code",
   "execution_count": 19,
   "id": "271b8147-98da-4431-99b8-bbc784b662f2",
   "metadata": {},
   "outputs": [
    {
     "name": "stdout",
     "output_type": "stream",
     "text": [
      "Details: Audi R8 Price: 9000000\n",
      "Car max speed is 260\n",
      "Car has Automatic Transmission\n",
      "Details: Nissan Magnite Price: 550000\n",
      "Vehicle max speed is 160\n",
      "Vehicle has 6 shifter gearbox\n"
     ]
    }
   ],
   "source": [
    "#Polymorphism and Inheritance (Method Overriding):-\n",
    "#Polymorphism is most commonly associated with inheritance. \n",
    "#In Python, child classes, like other programming languages, inherit methods and attributes from the parent class. \n",
    "#Method Overriding is the process of redefining certain methods and attributes to fit the child class.\n",
    "#This is especially handy when the method inherited from the parent class does not exactly fit the child class.\n",
    "#In such circumstances, the method is re-implemented in the child class. \n",
    "#Method Overriding refers to the technique of re-implementing a method in a child class.\n",
    "\n",
    "#Example:-\n",
    "                    \n",
    "class Vehicle:\n",
    "    def __init__(self, brand, model, price):\n",
    "        self.brand = brand\n",
    "        self.model = model\n",
    "        self.price = price\n",
    "\n",
    "    def show(self):\n",
    "        print('Details:', self.brand, self.model, 'Price:', self.price)\n",
    "\n",
    "    def max_speed(self):\n",
    "        print('Vehicle max speed is 160')\n",
    "\n",
    "    def gear_system(self):\n",
    "        print('Vehicle has 6 shifter gearbox')\n",
    "\n",
    "# inherit from vehicle class\n",
    "class Car(Vehicle):\n",
    "    def max_speed(self):\n",
    "        print('Car max speed is 260')\n",
    "\n",
    "    def gear_system(self):\n",
    "        print('Car has Automatic Transmission')\n",
    "\n",
    "# Car Object\n",
    "car = Car('Audi', 'R8', 9000000)\n",
    "car.show()\n",
    "# call methods from Car class\n",
    "car.max_speed()\n",
    "car.gear_system()\n",
    "\n",
    "# Vehicle Object\n",
    "vehicle = Vehicle('Nissan', 'Magnite', 550000)\n",
    "vehicle.show()\n",
    "# call method from a Vehicle class\n",
    "vehicle.max_speed()\n",
    "vehicle.gear_system()\n",
    "\n",
    "                "
   ]
  },
  {
   "cell_type": "markdown",
   "id": "9eab85cd-c875-4907-9c1c-65120bfc58ae",
   "metadata": {},
   "source": [
    "    5. How is polymorphism different from method overloading in Python? Provide examples for both."
   ]
  },
  {
   "cell_type": "code",
   "execution_count": 20,
   "id": "1a5ef508-db6a-441a-a283-070e9be8e918",
   "metadata": {},
   "outputs": [
    {
     "name": "stdout",
     "output_type": "stream",
     "text": [
      "Similar to Method Overloading\n",
      "\n",
      "Single Argument    -> Sum :  10\n",
      "Two Arguments      -> Sum :  32\n",
      "Multiple Arguments -> Sum :  15\n"
     ]
    }
   ],
   "source": [
    "#Method Overloading in Python:-\n",
    "#Method Overloading in Python is a type of Compile-time Polymorphism using which we can define two or more methods in the same class\n",
    "#with the same name but with a different parameter list.\n",
    "\n",
    "#We cannot perform method overloading in the Python programming language as everything is considered an object in Python. \n",
    "#Out of all the definitions with the same name, it uses the latest definition for the method. \n",
    "#Hence, we can define numerous methods with the same name, but we can only use the latest defined method.\n",
    "\n",
    "#In Python, we can make our code have the same features as overloaded functions by defining a method in such a way that\n",
    "#there exists more than one way to call it. \n",
    "\n",
    "#For example:-\n",
    "\n",
    "# Function to take multiple arguments\n",
    "def sum_number(*args):\n",
    "    # variable to store the sum of numbers    \n",
    "    result = 0\n",
    "    \n",
    "    # accessing the arguments\n",
    "    for num in args:\n",
    "        result += num\n",
    "    \n",
    "    # Output\n",
    "    print(\"Sum : \", result)\n",
    "\n",
    "    \n",
    "# Driver Code\n",
    "if(__name__ == \"__main__\"):\n",
    "    print(\"Similar to Method Overloading\\n\")\n",
    "    print(\"Single Argument    ->\", end = \" \")\n",
    "    sum_number(10)\n",
    "\n",
    "    print(\"Two Arguments      ->\", end = \" \")\n",
    "    sum_number(30, 2)\n",
    "\n",
    "    print(\"Multiple Arguments ->\", end = \" \")\n",
    "    sum_number(1, 2, 3, 4, 5)"
   ]
  },
  {
   "cell_type": "markdown",
   "id": "61873e5e-cb96-4ac4-a5fc-2a6440e82900",
   "metadata": {},
   "source": [
    "       6. Create a Python class called `Animal` with a method `speak()`. Then, create child classes like `Dog`, `Cat`, and `Bird`, \n",
    "       each with their own `speak()` method. Demonstrate polymorphism by calling the `speak()` method\n",
    "       on objects of different subclasses."
   ]
  },
  {
   "cell_type": "code",
   "execution_count": 21,
   "id": "14586a35-3c9d-4da9-960b-f14b20bbdd54",
   "metadata": {},
   "outputs": [
    {
     "name": "stdout",
     "output_type": "stream",
     "text": [
      "Meow\n",
      "I am a cat. My name is Kitty. I am 2.5 years old.\n",
      "Meow\n",
      "Bark\n",
      "I am a dog. My name is Fluffy. I am 4 years old.\n",
      "Bark\n"
     ]
    }
   ],
   "source": [
    "class Cat:\n",
    "    def __init__(self, name, age):\n",
    "        self.name = name\n",
    "        self.age = age\n",
    "\n",
    "    def info(self):\n",
    "        print(f\"I am a cat. My name is {self.name}. I am {self.age} years old.\")\n",
    "\n",
    "    def make_sound(self):\n",
    "        print(\"Meow\")\n",
    "\n",
    "\n",
    "class Dog:\n",
    "    def __init__(self, name, age):\n",
    "        self.name = name\n",
    "        self.age = age\n",
    "\n",
    "    def info(self):\n",
    "        print(f\"I am a dog. My name is {self.name}. I am {self.age} years old.\")\n",
    "\n",
    "    def make_sound(self):\n",
    "        print(\"Bark\")\n",
    "\n",
    "\n",
    "cat1 = Cat(\"Kitty\", 2.5)\n",
    "dog1 = Dog(\"Fluffy\", 4)\n",
    "\n",
    "for animal in (cat1, dog1):\n",
    "    animal.make_sound()\n",
    "    animal.info()\n",
    "    animal.make_sound()\n"
   ]
  },
  {
   "cell_type": "markdown",
   "id": "89ee778c-ac5c-415b-b677-15e7d31013ba",
   "metadata": {},
   "source": [
    "    7. Discuss the use of abstract methods and classes in achieving polymorphism in Python. Provide an example\n",
    "    using the `abc` module."
   ]
  },
  {
   "cell_type": "code",
   "execution_count": 22,
   "id": "19846377-72c4-499c-89e2-7d2ac2c98e63",
   "metadata": {},
   "outputs": [
    {
     "name": "stdout",
     "output_type": "stream",
     "text": [
      "I have 3 sides\n",
      "I have 4 sides\n",
      "I have 5 sides\n",
      "I have 6 sides\n"
     ]
    }
   ],
   "source": [
    "#Abstract Base Classes in Python:-\n",
    "#By defining an abstract base class, you can define a common Application Program Interface(API) for a set of subclasses.\n",
    "#This capability is especially useful in situations where a third party is going to provide implementations, such as with plugins,\n",
    "#but can also help you when working in a large team or with a large code base where keeping all classes in your mind is difficult or not possible. \n",
    "\n",
    "#Working on Python Abstract classes :-\n",
    "\n",
    "#By default, Python does not provide abstract classes. \n",
    "#Python comes with a module that provides the base for defining Abstract Base classes(ABC) and that module name is ABC.\n",
    "#ABC works by decorating methods of the base class as an abstract and then registering concrete classes as implementations of the abstract base.\n",
    "#A method becomes abstract when decorated with the keyword @abstractmethod.\n",
    "\n",
    "# Python program showing\n",
    "\n",
    "# abstract base class work\n",
    "\n",
    "from abc import ABC, abstractmethod\n",
    "\n",
    "\n",
    "class Polygon(ABC):\n",
    "\n",
    "\t@abstractmethod\n",
    "\tdef noofsides(self):\n",
    "\t\tpass\n",
    "\n",
    "\n",
    "class Triangle(Polygon):\n",
    "\n",
    "\t# overriding abstract method\n",
    "\tdef noofsides(self):\n",
    "\t\tprint(\"I have 3 sides\")\n",
    "\n",
    "\n",
    "class Pentagon(Polygon):\n",
    "\n",
    "\t# overriding abstract method\n",
    "\tdef noofsides(self):\n",
    "\t\tprint(\"I have 5 sides\")\n",
    "\n",
    "\n",
    "class Hexagon(Polygon):\n",
    "\n",
    "\t# overriding abstract method\n",
    "\tdef noofsides(self):\n",
    "\t\tprint(\"I have 6 sides\")\n",
    "\n",
    "\n",
    "class Quadrilateral(Polygon):\n",
    "\n",
    "\t# overriding abstract method\n",
    "\tdef noofsides(self):\n",
    "\t\tprint(\"I have 4 sides\")\n",
    "\n",
    "\n",
    "# Driver code\n",
    "R = Triangle()\n",
    "R.noofsides()\n",
    "\n",
    "K = Quadrilateral()\n",
    "K.noofsides()\n",
    "\n",
    "R = Pentagon()\n",
    "R.noofsides()\n",
    "\n",
    "K = Hexagon()\n",
    "K.noofsides()\n"
   ]
  },
  {
   "cell_type": "markdown",
   "id": "17205a1b-4d47-4e3e-b19d-b55f24a1ad2a",
   "metadata": {},
   "source": [
    "    8. Create a Python class hierarchy for a vehicle system (e.g., car, bicycle, boat) and implement a polymorphic `start()` method \n",
    "    that prints a message specific to each vehicle type."
   ]
  },
  {
   "cell_type": "code",
   "execution_count": 23,
   "id": "8a8edf1e-3c68-4dd7-8e92-9cc978ef84e3",
   "metadata": {},
   "outputs": [],
   "source": [
    "class vehical:\n",
    "    def __init__(self,car,bicycle,boat):\n",
    "        self.car = car\n",
    "        self.bicycle = bicycle\n",
    "        self.boat = boat\n",
    "        "
   ]
  },
  {
   "cell_type": "markdown",
   "id": "f04c4047-6a77-4621-9a72-57656fb91ddd",
   "metadata": {},
   "source": [
    "    9. Explain the significance of the `isinstance()` and `issubclass()` functions in Python polymorphism."
   ]
  },
  {
   "cell_type": "code",
   "execution_count": 24,
   "id": "ae77a5c8-d89a-4075-89b3-a84df049b5b0",
   "metadata": {},
   "outputs": [],
   "source": [
    "#Python isinstance() and issubclass() functions :\n",
    "#Class and instance are object oriented concepts that most of us are familiar with. \n",
    "#All classes in python are derived from a base class called Object class. We can also create a class deriving any other class. \n",
    "#This new class is called a childclass or subclass of the main class, and the main class is called parent or superclass.\n",
    "#The instance of a class is different than the subclass. We can create as many instance of a class as we like. \n",
    "#You can think class as a ‘blueprint’ and the instances as the objects created using the blueprint.\n",
    "#For example, if we have a class ‘Car’ with an attribute ‘color’, \n",
    "#we can create different instance or objects of ‘Car’ class with different values for this attribute. \n",
    "#We can create objects or instances of ‘Car’ with different ‘color’ like ‘blue’,’red_’,’green’_ etc.\n",
    "\n",
    "#Sometimes we need to check if an object is an instance of a class or not, and also if a class is a subclass of a different class or not.\n",
    "#In python we can do it pretty easily using two functions called ‘isinstance()’ and_ ‘issubclass()’_.\n",
    "#Most of us get confused with isinstance() and issubclass() functions in python.\n",
    "#isinstance() is used to check if an object is an instance of a certain class or any of its subclass. \n",
    "#Again, issubclass() is used to check if a class type is the subclass of a different class.\n"
   ]
  },
  {
   "cell_type": "markdown",
   "id": "bb2c9550-81ee-4f4f-a5da-bcb60584aff0",
   "metadata": {},
   "source": [
    "    10. What is the role of the `@abstractmethod` decorator in achieving polymorphism in Python? Provide an example."
   ]
  },
  {
   "cell_type": "code",
   "execution_count": 27,
   "id": "ceb5c45e-1806-409b-8e1a-73db69834b80",
   "metadata": {},
   "outputs": [],
   "source": [
    "#abc.abstractmethod(function) A decorator indicating abstract methods.\n",
    "\n",
    "#Using this decorator requires that the class’s metaclass is ABCMeta or is derived from it.\n",
    "#A class that has a metaclass derived from ABCMeta cannot be instantiated unless all of its abstract methods and properties are overridden.\n",
    "\n",
    "\n",
    "#You can apply the @abstractmethod decorator to methods such as draw() that must be implemented;\n",
    "#Python will then raise an exception for classes that don’t define the method.\n",
    "#Note that the exception is only raised when you actually try to create an instance of a subclass lacking the method.\n",
    "\n",
    "#I've used this code to test that out:\n",
    "\n",
    "import abc\n",
    "\n",
    "class AbstractClass(object):\n",
    "  __metaclass__ = abc.ABCMeta\n",
    "\n",
    "  @abc.abstractmethod\n",
    "  def abstractMethod(self):\n",
    "    return\n",
    "\n",
    "class ConcreteClass(AbstractClass):\n",
    "  def __init__(self):\n",
    "    self.me = \"me\"\n",
    "\n",
    "c = ConcreteClass()\n",
    "c.abstractMethod()"
   ]
  },
  {
   "cell_type": "markdown",
   "id": "1228f709-9a0f-4291-b493-c7311c6d8451",
   "metadata": {},
   "source": [
    "    11. Create a Python class called `Shape` with a polymorphic method `area()` that calculates the area of different shapes \n",
    "    (e.g., circle, rectangle, triangle)."
   ]
  },
  {
   "cell_type": "code",
   "execution_count": 28,
   "id": "cfdc0aea-bc9f-4b1c-80ed-9d6b87781a93",
   "metadata": {},
   "outputs": [
    {
     "name": "stdin",
     "output_type": "stream",
     "text": [
      "Enter length of rectangle:  5\n",
      "Enter breadth of rectangle:  6\n"
     ]
    },
    {
     "name": "stdout",
     "output_type": "stream",
     "text": [
      "Area of rectangle: 30\n",
      "\n"
     ]
    }
   ],
   "source": [
    "class rectangle():\n",
    "    def __init__(self,breadth,length):\n",
    "        self.breadth=breadth\n",
    "        self.length=length\n",
    "    def area(self):\n",
    "        return self.breadth*self.length\n",
    "a=int(input(\"Enter length of rectangle: \"))\n",
    "b=int(input(\"Enter breadth of rectangle: \"))\n",
    "obj=rectangle(a,b)\n",
    "print(\"Area of rectangle:\",obj.area())\n",
    " \n",
    "print()"
   ]
  },
  {
   "cell_type": "markdown",
   "id": "33eba8ba-6b7e-480e-a57f-911c7a573acd",
   "metadata": {},
   "source": [
    "    12. Discuss the benefits of polymorphism in terms of code reusability and flexibility in Python programs."
   ]
  },
  {
   "cell_type": "code",
   "execution_count": 29,
   "id": "8691dc68-c028-4178-8ea4-275acccd68ff",
   "metadata": {},
   "outputs": [],
   "source": [
    "#Benefits of Polymorphism:-\n",
    "\n",
    "#Code Reusability:\n",
    "#Polymorphism allows you to reuse the code written for the base class, reducing redundancy and promoting cleaner, more concise code.\n",
    "#Flexibility and Extensibility:\n",
    "#With polymorphism, you can add new derived classes without modifying existing code. This makes your codebase more flexible and easily extensible.\n",
    "#Simplified Maintenance:\n",
    "#Polymorphic code is easier to maintain as changes to the base class can automatically propagate to all derived classes,\n",
    "#ensuring consistent behavior throughout the application.\n",
    "#Enhanced Readability:\n",
    "#Polymorphism promotes a more intuitive and readable coding style, as objects can be treated at a higher level of abstraction \n",
    "#without worrying about their specific implementations.\n"
   ]
  },
  {
   "cell_type": "markdown",
   "id": "ae9800af-03c8-4b6e-bcdb-fe6ef0bf3a78",
   "metadata": {},
   "source": [
    "    13. Explain the use of the `super()` function in Python polymorphism. How does it help call methods of parent classes?"
   ]
  },
  {
   "cell_type": "code",
   "execution_count": 30,
   "id": "66b1d907-960a-4a7b-a068-991aa117aae1",
   "metadata": {},
   "outputs": [],
   "source": [
    "#A method from a parent class can be called in Python using the super() function.\n",
    "#It’s typical practice in object-oriented programming to call the methods of the superclass and enable method overriding and inheritance.\n",
    "#Even if the current class has replaced those methods with its own implementation, calling super() allows you to access and use \n",
    "#the parent class’s methods. By doing this, you may enhance and modify the parent class’s behavior while still gaining from it.\n",
    "\n",
    "#Benefits of Super Function:-\n",
    "\n",
    "#Need not remember or specify the parent class name to access its methods. This function can be used both in single and multiple inheritances.\n",
    "#This implements modularity (isolating changes) and code reusability as there is no need to rewrite the entire function.\n",
    "#The super function in Python is called dynamically because Python is a dynamic language, unlike other languages."
   ]
  },
  {
   "cell_type": "markdown",
   "id": "8ff2bc17-4f8f-4c56-b7a2-b3efb15e0a42",
   "metadata": {},
   "source": [
    "    14. Create a Python class hierarchy for a banking system with various account types (e.g., savings, checking, credit card) and demonstrate   polymorphism by implementing a common `withdraw()` method."
   ]
  },
  {
   "cell_type": "code",
   "execution_count": 31,
   "id": "987e351a-299d-4c2c-ab58-a521479f67db",
   "metadata": {},
   "outputs": [
    {
     "name": "stdout",
     "output_type": "stream",
     "text": [
      "Account Number :  2178514584\n",
      "Account Name :  Albert\n",
      "Account Balance :  2600  $\n"
     ]
    }
   ],
   "source": [
    "class BankAccount:\n",
    "    # create the constuctor with parameters: accountNumber, name and balance \n",
    "    def __init__(self,accountNumber, name, balance):\n",
    "        self.accountNumber = accountNumber\n",
    "        self.name = name\n",
    "        self.balance = balance\n",
    "        \n",
    "    # create Deposit() method\n",
    "    def Deposit(self , d ):\n",
    "        self.balance = self.balance + d\n",
    "    \n",
    "    # create Withdrawal method\n",
    "    def Withdrawal(self , w):\n",
    "        if(self.balance < w):\n",
    "            print(\"impossible operation! Insufficient balance !\")\n",
    "        else:\n",
    "            self.balance = self.balance - w\n",
    "    # create bankFees() method\n",
    "    def bankFees(self):\n",
    "        self.balance = (95/100)*self.balance\n",
    "        \n",
    "    # create display() method\n",
    "    def display(self):\n",
    "        print(\"Account Number : \" , self.accountNumber)\n",
    "        print(\"Account Name : \" , self.name)\n",
    "        print(\"Account Balance : \" , self.balance , \" $\")\n",
    "        \n",
    "# Testing the code :\n",
    "newAccount = BankAccount(2178514584, \"Albert\" , 2700)\n",
    "# Creating Withdrawal Test\n",
    "newAccount.Withdrawal(300)\n",
    "# Create deposit test\n",
    "newAccount.Deposit(200)\n",
    "# Display account informations\n",
    "newAccount.display()"
   ]
  },
  {
   "cell_type": "markdown",
   "id": "d9a661ee-627f-4b71-b807-6b4fb1c42a33",
   "metadata": {},
   "source": [
    "    15. Describe the concept of operator overloading in Python and how it relates to polymorphism. Provide examples using operators like `+` and `*`."
   ]
  },
  {
   "cell_type": "code",
   "execution_count": 1,
   "id": "ee398687-bd0c-4c1c-9e20-fed7b1171c17",
   "metadata": {},
   "outputs": [
    {
     "name": "stdout",
     "output_type": "stream",
     "text": [
      "(3,5)\n"
     ]
    }
   ],
   "source": [
    "#Python Operator Overloading:-\n",
    "#In Python, we can change the way operators work for user-defined types.\n",
    "\n",
    "#For example, the + operator will perform arithmetic addition on two numbers, merge two lists, or concatenate two strings.\n",
    "\n",
    "#This feature in Python that allows the same operator to have different meaning according to the context is called operator overloading.\n",
    "\n",
    "#Python Special Functions:-\n",
    "#Class functions that begin with double underscore __ are called special functions in Python.\n",
    "\n",
    "#The special functions are defined by the Python interpreter and used to implement certain features or behaviors.\n",
    "\n",
    "\n",
    "#They are called \"double underscore\" functions because they have a double underscore prefix and suffix, such as __init__() or __add__().\n",
    "\n",
    "#Here are some of the special functions available in Python,\n",
    "\n",
    "#Function\tDescription\n",
    "#__init__()\tinitialize the attributes of the object\n",
    "#__str__()\treturns a string representation of the object\n",
    "#__len__()\treturns the length of the object\n",
    "#__add__()\tadds two objects\n",
    "#__call__()\tcall objects of the class like a normal function\n",
    "#Example: + Operator Overloading in Python\n",
    "#To overload the + operator, we will need to implement __add__() function in the class.\n",
    "\n",
    "#With great power comes great responsibility. We can do whatever we like inside this function. \n",
    "#But it is more sensible to return the Point object of the coordinate sum.\n",
    "\n",
    "#Let's see an example,\n",
    "\n",
    "class Point:\n",
    "    def __init__(self, x=0, y=0):\n",
    "        self.x = x\n",
    "        self.y = y\n",
    "\n",
    "    def __str__(self):\n",
    "        return \"({0},{1})\".format(self.x, self.y)\n",
    "\n",
    "    def __add__(self, other):\n",
    "        x = self.x + other.x\n",
    "        y = self.y + other.y\n",
    "        return Point(x, y)\n",
    "\n",
    "\n",
    "p1 = Point(1, 2)\n",
    "p2 = Point(2, 3)\n",
    "\n",
    "print(p1+p2)\n",
    "\n",
    "# Output: (3,5)\n"
   ]
  },
  {
   "cell_type": "markdown",
   "id": "e5298333-1836-4b3e-ad8c-a5c754cd471f",
   "metadata": {},
   "source": [
    "      16. What is dynamic polymorphism, and how is it achieved in Python?"
   ]
  },
  {
   "cell_type": "code",
   "execution_count": 2,
   "id": "22efc2f3-5413-4f40-a81d-6fa3993e661c",
   "metadata": {},
   "outputs": [],
   "source": [
    "#Polymorphism in python defines methods in the child class that have the same name as the methods in the parent class.\n",
    "#In inheritance, the child class inherits the methods from the parent class.\n",
    "#Also, it is possible to modify a method in a child class that it has inherited from the parent class."
   ]
  },
  {
   "cell_type": "markdown",
   "id": "b8638f7a-d2bb-45eb-b524-25d2a0f839e3",
   "metadata": {},
   "source": [
    "    17. Create a Python class hierarchy for employees in a company (e.g., manager, developer, designer) and implement polymorphism \n",
    "    through a common `calculate_salary()` method.\n"
   ]
  },
  {
   "cell_type": "code",
   "execution_count": 17,
   "id": "3e78f5b8-906f-4517-a13f-17ee49062868",
   "metadata": {},
   "outputs": [],
   "source": [
    "# Function To Check if Employee with\n",
    "# given Id Exist or Not\n",
    "\n",
    "def check_employee(employee_id):\n",
    "\n",
    "\t# Query to select all Rows f\n",
    "\t# rom employee Table\n",
    "\tsql = 'select * from empd where id=%s'\n",
    "\n",
    "\t# making cursor buffered to make\n",
    "\t# rowcount method work properly\n",
    "\tc = con.cursor(buffered=True)\n",
    "\tdata = (employee_id,)\n",
    "\n",
    "\t# Executing the SQL Query\n",
    "\tc.execute(sql, data)\n",
    "\n",
    "\t# rowcount method to find\n",
    "\t# number of rows with given values\n",
    "\tr = c.rowcount\n",
    "\t\n",
    "\tif r == 1:\n",
    "\t\treturn True\n",
    "\telse:\n",
    "\t\treturn False\n"
   ]
  },
  {
   "cell_type": "markdown",
   "id": "98894ecf-fea1-4892-b63c-61986b11b8ae",
   "metadata": {},
   "source": [
    "     18. Discuss the concept of function pointers and how they can be used to achieve polymorphism in Python."
   ]
  },
  {
   "cell_type": "code",
   "execution_count": 3,
   "id": "7a1ab82a-3758-45f3-a44b-5aea3f800601",
   "metadata": {},
   "outputs": [],
   "source": [
    "#Function pointers:-\n",
    "#Having function pointers is another super feature of the C programming language. \n",
    "#The two previous sections were about variable pointers and functions,\n",
    "#and this section is going to combine them and talk about a more interesting topic: pointers to functions.\n",
    "\n",
    "#They have many applications, but splitting a large binary into smaller binaries and loading them again in another small \n",
    "#executable is one of the most important applications. This has led to modularization and software design. \n",
    "#Function pointers are building blocks for the implementation of polymorphism in C++ and allow us to extend our existing logic. \n",
    "#In this section, we are going to cover them and prepare you for more advanced topics we'll cover over the coming chapters"
   ]
  },
  {
   "cell_type": "markdown",
   "id": "a47613cd-c1a0-4646-be84-877cff68c1ae",
   "metadata": {},
   "source": [
    "    19. Explain the role of interfaces and abstract classes in polymorphism, drawing comparisons between them."
   ]
  },
  {
   "cell_type": "code",
   "execution_count": 4,
   "id": "48a410d5-7176-414e-8ede-98b6aca37eca",
   "metadata": {},
   "outputs": [],
   "source": [
    "#Abstract Class:--\n",
    "#1. An abstract features developer’s class can consist of abstract as well as concrete methods\n",
    "#2. It is used when there are some common feature shared by all objects\n",
    "#3. Its developer responsibility to create a child class for the features of an abstract class\n",
    "#4. It is comparatively fast\n",
    "\n",
    "#Interface:--\n",
    "#1. All methods of an interface are abstract\n",
    "#2. It is used when all the feature need to be implemented differently for different objects\n",
    "#3. Any 3rd person will responsible for creating a child class\n",
    "#4. It is comparatively slow"
   ]
  },
  {
   "cell_type": "markdown",
   "id": "a22ab239-0285-4ac1-ab3a-5a3d4f49f59f",
   "metadata": {},
   "source": [
    "    20. Create a Python class for a zoo simulation, demonstrating polymorphism with different animal types (e.g., mammals, birds,\n",
    "    reptiles) and their behavior (e.g., eating, sleeping, making sounds)."
   ]
  },
  {
   "cell_type": "code",
   "execution_count": 7,
   "id": "84574e55-4ae4-42f5-a6be-a3eafabf1d18",
   "metadata": {},
   "outputs": [],
   "source": [
    "class animal:\n",
    "    #initializer method\n",
    "    def __init__(self,my_species,row,column):\n",
    "        \"\"\"constructor method\n",
    "        args:\n",
    "        self(animal): the object being created\n",
    "        my_species (str): species name (\"lion\" or \"zebra\")\n",
    "        row(int): row for the new animal\n",
    "        column (int): column for the new animal\n",
    "        returns :\n",
    "           nothing \n",
    "        behavior:\n",
    "        initializes a new animal , setting species to my_species\n",
    "        \"\"\"\n",
    "        self.species = my_species\n",
    "        self.row = row\n",
    "        self.col = column\n",
    "        self.age = 0\n",
    "        self.time_since_last_meal = 0\n",
    "    def __str__(self):\n",
    "        \"\"\"creates a string from an object \n",
    "        args:\n",
    "           self (animal): the object on which the method is called\n",
    "        returns: \n",
    "            str: string summarizing the object \n",
    "            \"\"\"\n",
    "        s = self.species+\" at position (\"+str(self.row)+\",\"+str(self.col)+\"):, age = \"+str(self.age)+\",time_since_last_meal=\"+\\\n",
    "            str(self.time_since_last_meal)\n",
    "        return s"
   ]
  },
  {
   "cell_type": "markdown",
   "id": "30f50ffb-df87-4489-a65e-524224a75540",
   "metadata": {},
   "source": [
    "                                                         Abstraction:"
   ]
  },
  {
   "cell_type": "markdown",
   "id": "28ba26d0-dc8f-47af-a0c5-f86cf5f34ac9",
   "metadata": {},
   "source": [
    "      1. What is abstraction in Python, and how does it relate to object-oriented programming?"
   ]
  },
  {
   "cell_type": "code",
   "execution_count": 8,
   "id": "40828652-6ff5-47d6-9f52-00e83778bacd",
   "metadata": {},
   "outputs": [],
   "source": [
    "#Abstraction in python is defined as a process of handling complexity by hiding unnecessary information from the user. \n",
    "#This is one of the core concepts of object-oriented programming (OOP) languages.\n",
    "#That enables the user to implement even more complex logic on top of the provided abstraction without understanding or even thinking\n",
    "#about all the hidden background/back-end complexity.\n",
    "\n",
    "#That’s a very generic core topic not only limited to object-oriented programming.\n",
    "#You can observe it everywhere in the real world or in our surroundings.\n",
    "#Abstraction is used to hide the internal functionality of the function from the users.\n",
    "#The users only interact with the basic implementation of the function, but inner working is hidden. \n",
    "#User is familiar with that \"what function does\" but they don't know \"how it does.\""
   ]
  },
  {
   "cell_type": "markdown",
   "id": "d8636bad-18b8-42ee-9e19-bc9ca482a8b6",
   "metadata": {},
   "source": [
    "       2. Describe the benefits of abstraction in terms of code organization and complexity reduction."
   ]
  },
  {
   "cell_type": "code",
   "execution_count": 9,
   "id": "ae68907e-17cb-45dc-82b8-b6b7e8a05218",
   "metadata": {},
   "outputs": [],
   "source": [
    "#Using an abstract base class is useful for creating reusable code.\n",
    "#It allows developers to define a template that all subclasses must follow while leaving it up to the subclass\n",
    "#to provide its own implementation details. This helps keep code organized and structured, making it easier to maintain."
   ]
  },
  {
   "cell_type": "markdown",
   "id": "0c40bcf0-4c6d-4f94-a9cf-b9814c0891ff",
   "metadata": {},
   "source": [
    "    3. Create a Python class called `Shape` with an abstract method `calculate_area()`. Then, create child classes (e.g., `Circle`, \n",
    "    `Rectangle`) that implement the `calculate_area()` method. Provide an example of using these classes."
   ]
  },
  {
   "cell_type": "code",
   "execution_count": 10,
   "id": "64955212-be1b-4acf-9f59-05b4c06dc6cd",
   "metadata": {},
   "outputs": [
    {
     "name": "stdout",
     "output_type": "stream",
     "text": [
      "I have 3 sides\n",
      "I have 4 sides\n",
      "I have 5 sides\n",
      "I have 6 sides\n"
     ]
    }
   ],
   "source": [
    "# Python program showing\n",
    "# abstract base class work\n",
    "from abc import ABC, abstractmethod\n",
    "\n",
    "\n",
    "class Polygon(ABC):\n",
    "\n",
    "\t@abstractmethod\n",
    "\tdef noofsides(self):\n",
    "\t\tpass\n",
    "\n",
    "\n",
    "class Triangle(Polygon):\n",
    "\n",
    "\t# overriding abstract method\n",
    "\tdef noofsides(self):\n",
    "\t\tprint(\"I have 3 sides\")\n",
    "\n",
    "\n",
    "class Pentagon(Polygon):\n",
    "\n",
    "\t# overriding abstract method\n",
    "\tdef noofsides(self):\n",
    "\t\tprint(\"I have 5 sides\")\n",
    "\n",
    "\n",
    "class Hexagon(Polygon):\n",
    "\n",
    "\t# overriding abstract method\n",
    "\tdef noofsides(self):\n",
    "\t\tprint(\"I have 6 sides\")\n",
    "\n",
    "\n",
    "class Quadrilateral(Polygon):\n",
    "\n",
    "\t# overriding abstract method\n",
    "\tdef noofsides(self):\n",
    "\t\tprint(\"I have 4 sides\")\n",
    "\n",
    "\n",
    "# Driver code\n",
    "R = Triangle()\n",
    "R.noofsides()\n",
    "\n",
    "K = Quadrilateral()\n",
    "K.noofsides()\n",
    "\n",
    "R = Pentagon()\n",
    "R.noofsides()\n",
    "\n",
    "K = Hexagon()\n",
    "K.noofsides()\n"
   ]
  },
  {
   "cell_type": "markdown",
   "id": "e5139928-6297-40b0-bc6b-124ec7d56f3d",
   "metadata": {},
   "source": [
    "    4. Explain the concept of abstract classes in Python and how they are defined using the `abc` module. Provide an example."
   ]
  },
  {
   "cell_type": "code",
   "execution_count": 11,
   "id": "9b210d02-394f-4ce3-9655-ad9bdc9e83e4",
   "metadata": {},
   "outputs": [
    {
     "name": "stdout",
     "output_type": "stream",
     "text": [
      "True\n",
      "True\n"
     ]
    }
   ],
   "source": [
    "#By default, Python does not provide abstract classes. \n",
    "#Python comes with a module that provides the base for defining Abstract Base classes(ABC) and that module name is ABC.\n",
    "#ABC works by decorating methods of the base class as an abstract and then registering concrete classes as implementations of the abstract base.\n",
    "#A method becomes abstract when decorated with the keyword @abstractmethod.\n",
    "# Python program showing\n",
    "# implementation of abstract\n",
    "# class through subclassing\n",
    "import abc\n",
    "\n",
    "class parent:\t \n",
    "\tdef geeks(self):\n",
    "\t\tpass\n",
    "\n",
    "class child(parent):\n",
    "\tdef geeks(self):\n",
    "\t\tprint(\"child class\")\n",
    "\n",
    "# Driver code\n",
    "print( issubclass(child, parent))\n",
    "print( isinstance(child(), parent))\n"
   ]
  },
  {
   "cell_type": "markdown",
   "id": "7a17f6d6-05a7-4f1e-86f7-23ffb7e1acbd",
   "metadata": {},
   "source": [
    "     5. How do abstract classes differ from regular classes in Python? Discuss their use cases."
   ]
  },
  {
   "cell_type": "code",
   "execution_count": 1,
   "id": "5cf47909-5caf-4da3-874c-8a9396f3e496",
   "metadata": {},
   "outputs": [],
   "source": [
    "#Abstract classes vs regular classes:--\n",
    "\n",
    "#So why not to use regular classes then.\n",
    "#What's the benefit of using abstract class? This is pretty simple.\n",
    "#If you use abstract classes, you force the core functionality to be implemented by the children.\n",
    "#As a developer, you don't need to remember that you should implement the essential functions. \n",
    "#This is where abstract classes imposing design constraints over regular classes. \n",
    "#Plus by making the class abstract you avoid that (incomplete) class to be created accidentally.\n"
   ]
  },
  {
   "cell_type": "markdown",
   "id": "fe465487-36d4-4d8a-861f-e0a3435a19b4",
   "metadata": {},
   "source": [
    "     6. Create a Python class for a bank account and demonstrate abstraction by hiding the account balance and providing methods \n",
    "     to deposit and withdraw funds."
   ]
  },
  {
   "cell_type": "code",
   "execution_count": 2,
   "id": "1b539c14-497f-4f89-83eb-ffe712f31fc4",
   "metadata": {},
   "outputs": [
    {
     "name": "stdout",
     "output_type": "stream",
     "text": [
      "Hello!!! Welcome to the Deposit & Withdrawal Machine\n"
     ]
    },
    {
     "name": "stdin",
     "output_type": "stream",
     "text": [
      "Enter amount to be Deposited:  500000\n"
     ]
    },
    {
     "name": "stdout",
     "output_type": "stream",
     "text": [
      "\n",
      " Amount Deposited: 500000.0\n"
     ]
    },
    {
     "name": "stdin",
     "output_type": "stream",
     "text": [
      "Enter amount to be Withdrawn:  10000\n"
     ]
    },
    {
     "name": "stdout",
     "output_type": "stream",
     "text": [
      "\n",
      " You Withdrew: 10000.0\n",
      "\n",
      " Net Available Balance= 490000.0\n"
     ]
    }
   ],
   "source": [
    "# Python program to create Bankaccount class\n",
    "# with both a deposit() and a withdraw() function\n",
    "class Bank_Account:\n",
    "\tdef __init__(self):\n",
    "\t\tself.balance=0\n",
    "\t\tprint(\"Hello!!! Welcome to the Deposit & Withdrawal Machine\")\n",
    "\n",
    "\tdef deposit(self):\n",
    "\t\tamount=float(input(\"Enter amount to be Deposited: \"))\n",
    "\t\tself.balance += amount\n",
    "\t\tprint(\"\\n Amount Deposited:\",amount)\n",
    "\n",
    "\tdef withdraw(self):\n",
    "\t\tamount = float(input(\"Enter amount to be Withdrawn: \"))\n",
    "\t\tif self.balance>=amount:\n",
    "\t\t\tself.balance-=amount\n",
    "\t\t\tprint(\"\\n You Withdrew:\", amount)\n",
    "\t\telse:\n",
    "\t\t\tprint(\"\\n Insufficient balance \")\n",
    "\n",
    "\tdef display(self):\n",
    "\t\tprint(\"\\n Net Available Balance=\",self.balance)\n",
    "\n",
    "# Driver code\n",
    "\n",
    "# creating an object of class\n",
    "s = Bank_Account()\n",
    "\n",
    "# Calling functions with that class object\n",
    "s.deposit()\n",
    "s.withdraw()\n",
    "s.display()\n"
   ]
  },
  {
   "cell_type": "markdown",
   "id": "23251182-1119-4078-ab8f-495a820e0578",
   "metadata": {},
   "source": [
    "     7. Discuss the concept of interface classes in Python and their role in achieving abstraction."
   ]
  },
  {
   "cell_type": "code",
   "execution_count": 3,
   "id": "637edf05-ec25-4ebc-a3e7-6c017691c3d2",
   "metadata": {},
   "outputs": [],
   "source": [
    "#An abstract class is a template for creating subclasses that define their methods without providing implementation details.\n",
    "#On the other hand, an interface allows developers to define what functionality must be provided by each\n",
    "#subclass while leaving it up to the subclass to provide its own implementation details.\n"
   ]
  },
  {
   "cell_type": "markdown",
   "id": "7cc40bb0-f915-49d3-8dc0-df45b9efc3d4",
   "metadata": {},
   "source": [
    "    8. Create a Python class hierarchy for animals and implement abstraction by defining common methods (e.g., `eat()`, `sleep()`)\n",
    "    in an abstract base class."
   ]
  },
  {
   "cell_type": "code",
   "execution_count": 9,
   "id": "8591a0f0-7aef-486c-a506-26d5cf30033e",
   "metadata": {},
   "outputs": [
    {
     "name": "stdout",
     "output_type": "stream",
     "text": [
      "i am eating and sleep\n"
     ]
    }
   ],
   "source": [
    "def eat():\n",
    "    print(\"fruit\")\n",
    "def sleep(eat):\n",
    "    print(\"i am eating and sleep\")\n",
    "s1 = sleep(\"bhabes\")"
   ]
  },
  {
   "cell_type": "markdown",
   "id": "e7b37afc-0413-45a5-9e66-2bd9b17e7daf",
   "metadata": {},
   "source": [
    "      9. Explain the significance of encapsulation in achieving abstraction. Provide examples."
   ]
  },
  {
   "cell_type": "code",
   "execution_count": 23,
   "id": "ec65e29b-e813-479e-9b4e-7ea2e71ea9ac",
   "metadata": {},
   "outputs": [
    {
     "name": "stdout",
     "output_type": "stream",
     "text": [
      "Javatpoint\n"
     ]
    }
   ],
   "source": [
    "#Advantages of Encapsulation in Python\n",
    "#Protects an object from unauthorized access. Prevents other classes from using the private members defined within the class.\n",
    "#Prevents accidental data modification by using private and protected access levels.\n",
    "class Base1:  \n",
    "    def __init__(self):  \n",
    "          self.p = \"Javatpoint\"  \n",
    "          self.__q = \"Javatpoint\"  \n",
    "  \n",
    "# Creating a derived class  \n",
    "class Derived1(Base1):  \n",
    "      def __init__(self):  \n",
    "  \n",
    "# Calling constructor of  \n",
    "# Base class  \n",
    "      #base1.__init__(self)  \n",
    "        print(\"We will call the private member of base class: \")  \n",
    "        print(self.__q)  \n",
    "  \n",
    "  \n",
    "# Driver code  \n",
    "obj_1 = Base1()  \n",
    "print(obj_1.p)"
   ]
  },
  {
   "cell_type": "markdown",
   "id": "54db7e96-ff2d-4b6b-b143-45687efb9510",
   "metadata": {},
   "source": [
    "       10. What is the purpose of abstract methods, and how do they enforce abstraction in Python classes?"
   ]
  },
  {
   "cell_type": "code",
   "execution_count": 1,
   "id": "a09f6557-1b0c-481f-b3d6-39b4dc6209f3",
   "metadata": {},
   "outputs": [],
   "source": [
    "#This enforces a common interface for all shape objects, allowing you to work with them interchangeably.\n",
    "\n",
    "#In summary, abstract classes and methods are essential tools for achieving code structure, modularity,\n",
    "#and polymorphism in object-oriented programming, making your code more organized, maintainable, and extensible."
   ]
  },
  {
   "cell_type": "markdown",
   "id": "87bd4e45-faf1-46c0-8d87-23c1e86b3b0b",
   "metadata": {},
   "source": [
    "    11. Create a Python class for a vehicle system and demonstrate abstraction by defining common methods (e.g., `start()`, `stop()`) \n",
    "    in an abstract base class."
   ]
  },
  {
   "cell_type": "code",
   "execution_count": 2,
   "id": "a8aa4c94-974e-4b57-9e55-c0385b590616",
   "metadata": {},
   "outputs": [
    {
     "name": "stdout",
     "output_type": "stream",
     "text": [
      "The mileage is 30kmph\n",
      "The mileage is 27kmph \n",
      "The mileage is 25kmph \n",
      "The mileage is 24kmph \n"
     ]
    }
   ],
   "source": [
    "# Python program demonstrate  \n",
    "# abstract base class work   \n",
    "from abc import ABC, abstractmethod   \n",
    "class Car(ABC):   \n",
    "    def mileage(self):   \n",
    "        pass  \n",
    "  \n",
    "class Tesla(Car):   \n",
    "    def mileage(self):   \n",
    "        print(\"The mileage is 30kmph\")   \n",
    "class Suzuki(Car):   \n",
    "    def mileage(self):   \n",
    "        print(\"The mileage is 25kmph \")   \n",
    "class Duster(Car):   \n",
    "     def mileage(self):   \n",
    "          print(\"The mileage is 24kmph \")   \n",
    "  \n",
    "class Renault(Car):   \n",
    "    def mileage(self):   \n",
    "            print(\"The mileage is 27kmph \")   \n",
    "          \n",
    "# Driver code   \n",
    "t= Tesla ()   \n",
    "t.mileage()   \n",
    "  \n",
    "r = Renault()   \n",
    "r.mileage()   \n",
    "  \n",
    "s = Suzuki()   \n",
    "s.mileage()   \n",
    "d = Duster()   \n",
    "d.mileage()  "
   ]
  },
  {
   "cell_type": "markdown",
   "id": "e7a404d4-2d9c-446c-a5d7-4e12dd9dd933",
   "metadata": {},
   "source": [
    "    12. Describe the use of abstract properties in Python and how they can be employed in abstract classes."
   ]
  },
  {
   "cell_type": "code",
   "execution_count": 3,
   "id": "cf16e66b-e02b-4604-a4fb-92e201de163a",
   "metadata": {},
   "outputs": [],
   "source": [
    "#The methods and properties defined (but not implemented) in an abstract class are called abstract methods and abstract properties. \n",
    "#All abstract methods and properties need to be implemented in a child class in order to be able to create objects from it.\n"
   ]
  },
  {
   "cell_type": "markdown",
   "id": "ca4fe7df-1c11-477d-8a50-6e4f4bafbf6a",
   "metadata": {},
   "source": [
    "      13. Create a Python class hierarchy for employees in a company (e.g., manager, developer, designer) and implement abstraction\n",
    "      by defining a common `get_salary()` method."
   ]
  },
  {
   "cell_type": "code",
   "execution_count": null,
   "id": "aa01cdfc-99c1-4dec-9b83-3359fbc8c35f",
   "metadata": {},
   "outputs": [],
   "source": []
  },
  {
   "cell_type": "markdown",
   "id": "92a395d6-6803-4cb2-9bb9-25c3b7977ed2",
   "metadata": {},
   "source": [
    "    14. Discuss the differences between abstract classes and concrete classes in Python, including their instantiation."
   ]
  },
  {
   "cell_type": "code",
   "execution_count": 4,
   "id": "70f62329-5993-4f56-8dd1-085d1d002aa1",
   "metadata": {},
   "outputs": [],
   "source": [
    "#Concrete classes contain only concrete (normal)methods whereas abstract classes may contain both concrete methods and abstract methods. \n",
    "#The concrete class provides an implementation of abstract methods, the abstract base class can also provide an\n",
    "#implementation by invoking the methods via super()."
   ]
  },
  {
   "cell_type": "markdown",
   "id": "880e5bc1-7b3a-4d2a-b1da-ef309f9a285f",
   "metadata": {},
   "source": [
    "    15. Explain the concept of abstract data types (ADTs) and their role in achieving abstraction in Python."
   ]
  },
  {
   "cell_type": "code",
   "execution_count": 5,
   "id": "3f79b7fd-30a6-409e-9303-079c82cac8ef",
   "metadata": {},
   "outputs": [],
   "source": [
    "#Abstract data types (ADTs) are a way of encapsulating data and operations on that data into a single unit. Some of the key features of ADTs include:\n",
    "\n",
    "#Abstraction: \n",
    "#The user does not need to know the implementation of the data structure only essentials are provided.\n",
    "#Better Conceptualization:\n",
    "#ADT gives us a better conceptualization of the real world.\n",
    "#Robust:\n",
    "#The program is robust and has the ability to catch errors.\n",
    "#Encapsulation:\n",
    "#ADTs hide the internal details of the data and provide a public interface for users to interact with the data. \n",
    "#This allows for easier maintenance and modification of the data structure.\n",
    "#Data Abstraction:\n",
    "#ADTs provide a level of abstraction from the implementation details of the data. \n",
    "#Users only need to know the operations that can be performed on the data, not how those operations are implemented.\n",
    "#Data Structure Independence: \n",
    "#ADTs can be implemented using different data structures, such as arrays or linked lists, without affecting the functionality of the ADT.\n",
    "#Information Hiding:\n",
    "#ADTs can protect the integrity of the data by allowing access only to authorized users and operations.\n",
    "#This helps prevent errors and misuse of the data.\n",
    "#Modularity:\n",
    "#ADTs can be combined with other ADTs to form larger, more complex data structures. \n",
    "#This allows for greater flexibility and modularity in programming.\n"
   ]
  },
  {
   "cell_type": "markdown",
   "id": "9ef346e2-26a2-4e91-ab8e-b2df5e0c7cd8",
   "metadata": {},
   "source": [
    "     16. Create a Python class for a computer system, demonstrating abstraction by defining common methods (e.g., `power_on()`, `\n",
    "     shutdown()`) in an abstract base class."
   ]
  },
  {
   "cell_type": "code",
   "execution_count": 18,
   "id": "25a458fd-4299-49ed-a832-be1659ecbd1c",
   "metadata": {},
   "outputs": [
    {
     "name": "stdout",
     "output_type": "stream",
     "text": [
      "The mileage is 30kmph\n",
      "The mileage is 27kmph \n",
      "The mileage is 25kmph \n",
      "The mileage is 24kmph \n"
     ]
    }
   ],
   "source": [
    "# Python program demonstrate  \n",
    "# abstract base class work   \n",
    "from abc import ABC, abstractmethod   \n",
    "class Car(ABC):   \n",
    "    def mileage(self):   \n",
    "        pass  \n",
    "  \n",
    "class Tesla(Car):   \n",
    "    def mileage(self):   \n",
    "        print(\"The mileage is 30kmph\")   \n",
    "class Suzuki(Car):   \n",
    "    def mileage(self):   \n",
    "        print(\"The mileage is 25kmph \")   \n",
    "class Duster(Car):   \n",
    "     def mileage(self):   \n",
    "          print(\"The mileage is 24kmph \")   \n",
    "  \n",
    "class Renault(Car):   \n",
    "    def mileage(self):   \n",
    "            print(\"The mileage is 27kmph \")   \n",
    "          \n",
    "# Driver code   \n",
    "t= Tesla ()   \n",
    "t.mileage()   \n",
    "  \n",
    "r = Renault()   \n",
    "r.mileage()   \n",
    "  \n",
    "s = Suzuki()   \n",
    "s.mileage()   \n",
    "d = Duster()   \n",
    "d.mileage()"
   ]
  },
  {
   "cell_type": "markdown",
   "id": "cdf56a00-7d7d-4b2a-aa6e-d568ee93220a",
   "metadata": {},
   "source": [
    "    17. Discuss the benefits of using abstraction in large-scale software development projects."
   ]
  },
  {
   "cell_type": "code",
   "execution_count": 6,
   "id": "0fd2bbf5-2a05-42f1-93d6-87c4c07734d6",
   "metadata": {},
   "outputs": [],
   "source": [
    "#Boehm and Turner (2003) suggested that programmes should find a “sweet spot” combining a mixture of traditional and agile methods. \n",
    "#Previous research on the use of development methods suggests that methods need to be adapted to the work context (Fitzgerald et al. 2006). \n",
    "#We first describe some of the main differences between traditional and agile development \n",
    "#before focusing on three aspects of adaptation that are critical in very large scale development: \n",
    "#customer involvement, software architecture, and inter-team coordination.\n"
   ]
  },
  {
   "cell_type": "markdown",
   "id": "6d0b38d5-6dff-4c9c-947e-6c7a9ec44fc8",
   "metadata": {},
   "source": [
    "    18. Explain how abstraction enhances code reusability and modularity in Python programs."
   ]
  },
  {
   "cell_type": "code",
   "execution_count": 7,
   "id": "ab0ced25-7695-4229-89be-08357176eaa8",
   "metadata": {},
   "outputs": [],
   "source": [
    "#1. Code Reusability:\n",
    "#Functions and modules promote code reusability, allowing us to use the same code across different parts of a program or even in different projects.\n",
    "#Instead of rewriting the same code, we can simply call functions or import modules, saving time and effort.\n",
    "\n",
    "\n",
    "#2. Modularity:\n",
    "#Functions and modules enable us to break down complex problems into smaller, more manageable pieces. \n",
    "#This modular approach enhances code readability and makes it easier to understand and maintain."
   ]
  },
  {
   "cell_type": "markdown",
   "id": "898f5737-5f92-4267-a8df-a037ea0ab551",
   "metadata": {},
   "source": [
    "    19. Create a Python class for a library system, implementing abstraction by defining common methods (e.g., `add_book()`,\n",
    "    `borrow_book()`) in an abstract base class."
   ]
  },
  {
   "cell_type": "code",
   "execution_count": 19,
   "id": "26a40536-760c-4919-9ee4-47bc4dce9ebe",
   "metadata": {},
   "outputs": [
    {
     "name": "stdout",
     "output_type": "stream",
     "text": [
      "book5 seconds rule\n"
     ]
    }
   ],
   "source": [
    "class bookshelf:\n",
    "    def __init__(self,quantity):\n",
    "        self.quantity = quantity\n",
    "        \n",
    "    def __str__(self):\n",
    "        return f\"book with {self , quantity} book\"\n",
    "shelf = bookshelf(500)\n",
    "class book(bookshelf):\n",
    "    def __init__(self,name,quantity):\n",
    "        super().__init__(quantity)\n",
    "        self.name = name\n",
    "    def __str__(self):\n",
    "        return f\"book{self.name}\"\n",
    "book = book(\"5 seconds rule\",150)\n",
    "print(book)"
   ]
  },
  {
   "cell_type": "markdown",
   "id": "98c08900-4823-4e99-b510-c40af15d9036",
   "metadata": {},
   "source": [
    "    20. Describe the concept of method abstraction in Python and how it relates to polymorphism."
   ]
  },
  {
   "cell_type": "code",
   "execution_count": 1,
   "id": "18354389-a5a9-4eb6-8c71-e0dc83d5c2da",
   "metadata": {},
   "outputs": [],
   "source": [
    "#Another way to use polymorphism in Python is by combining abstract methods and inheritance.\n",
    "#This means that you can define an abstract method in a base class and then override it with different implementations in subclasses. \n",
    "#This way, you can create a common interface for subclasses that share some functionality but differ in some details.\n",
    "#For example, if you have a base class called DataProcessor that has an abstract method called process, you can override \n",
    "#this method in subclasses like CSVProcessor, JSONProcessor, and XMLProcessor and provide different ways of processing data files.\n",
    "#Here is an example of how to do this:\n",
    "    "
   ]
  },
  {
   "cell_type": "markdown",
   "id": "f6ce3474-0c69-4f3f-8928-4de9d99af305",
   "metadata": {},
   "source": [
    "                                                        Composition:"
   ]
  },
  {
   "cell_type": "markdown",
   "id": "1b21e2f4-6591-46b3-844c-e596f4971c95",
   "metadata": {},
   "source": [
    "    1. Explain the concept of composition in Python and how it is used to build complex objects from simpler ones."
   ]
  },
  {
   "cell_type": "code",
   "execution_count": 2,
   "id": "f333c4fe-984d-4376-9e4a-dd52f8735255",
   "metadata": {},
   "outputs": [],
   "source": [
    "#Composition is a concept that models a has a relationship. It enables creating complex types by combining objects of other types. \n",
    "#This means that a class Composite can contain an object of another class Component .\n",
    "#This relationship means that a Composite has a Component .\n",
    "#An object is a basic unit of Object-Oriented Programming and represents the real-life entities.\n",
    "#Complex objects are the objects that are built from smaller or a collection of objects. \n",
    "#For example, a mobile phone is made up of various objects like a camera, battery, screen, sensors, etc.\n",
    "#In this article, we will understand the use and implementation of a complex object. \n",
    "#In object-oriented programming languages, object composition is used for objects that have a “has-a” relationship with each other. \n",
    "#For example, a mobile has-a battery, has-a sensor, has-a screen, etc. Therefore, the complex object is called\n",
    "#the whole or a parent object whereas a simpler object is often referred to as a child object.\n",
    "#In this case, all the objects or components are the child objects which together make up the complex object(mobile). "
   ]
  },
  {
   "cell_type": "markdown",
   "id": "7fdd9d4c-7564-4462-b1c7-8140b03af03e",
   "metadata": {},
   "source": [
    "         2. Describe the difference between composition and inheritance in object-oriented programming."
   ]
  },
  {
   "cell_type": "code",
   "execution_count": 3,
   "id": "c8bb9a8f-d7b1-4629-935a-c565dddbeef1",
   "metadata": {},
   "outputs": [],
   "source": [
    "#Composition:-\n",
    "#1.Composition is a has-a relationship\n",
    "#2.We can achieve multiple inheritance using composition\n",
    "#3.Composition does not create a hierarchy of classes\n",
    "#4.Composition does not allow direct access to the members of the composed objects\n",
    "#5.The composition can be more flexible and allows objects to be reused in different contexts\n",
    "#6.Changes to the composed objects do not affect other composed objects\n",
    "#7.Composition allows code reuse even from final classes.\n",
    "\n",
    "#Inheritance:--\n",
    "#1.nheritance represents  the is-a relationship\n",
    "#2.java doesn’t allow multiple inheritance\n",
    "#3.It creates a hierarchy of class\n",
    "#4.A child class can access all public and protected members of the parent class\n",
    "#5.Inheritance creates a tight coupling between the parent and child classes\n",
    "#6.Changes to the parent class can affect all child classes\n",
    "#7.Inheritance cannot extend the final class"
   ]
  },
  {
   "cell_type": "markdown",
   "id": "c0c89f44-f868-4a47-a5cd-5a687389cf79",
   "metadata": {},
   "source": [
    "    3. Create a Python class called `Author` with attributes for name and birthdate. Then, create a `Book` class\n",
    "    that contains an instance of `Author` as a composition. Provide an example of creating a `Book` object."
   ]
  },
  {
   "cell_type": "code",
   "execution_count": 14,
   "id": "720ded70-e059-47e3-acb4-ce7b73f4c4fa",
   "metadata": {},
   "outputs": [
    {
     "name": "stdout",
     "output_type": "stream",
     "text": [
      "i am king\n",
      "1020\n",
      "lion\n"
     ]
    }
   ],
   "source": [
    "class Book:\n",
    "    def __init__(self, author, title, book_id):\n",
    "        self.author = author\n",
    "        self.title = title\n",
    "        self.book_id = book_id\n",
    "\n",
    "    def __str__(self):\n",
    "        return 'Book(author, title, book_id)'\n",
    "\n",
    "    def __repr__(self):\n",
    "\n",
    "        return 'Book(author, title, book_id)'\n",
    "\n",
    "    def __eq__(self, other):\n",
    "\n",
    "    #Not sure if this is the right approach\n",
    "\n",
    "        for title in Book:\n",
    "            for title in Book:\n",
    "                if title == title:\n",
    "                    if author == author:\n",
    "                        if book_id == book_id:\n",
    "                            return True \n",
    "s1 = Book('auther','title','book id')\n",
    "s1.title= 'i am king'\n",
    "s1.book_id = 1020\n",
    "s1.auther = \"lion\"\n",
    "print(s1.title)\n",
    "print(s1.book_id)\n",
    "print(s1.auther)"
   ]
  },
  {
   "cell_type": "markdown",
   "id": "f8821ac0-263d-4034-af80-ca85c8f3d0d9",
   "metadata": {},
   "source": [
    "    4. Discuss the benefits of using composition over inheritance in Python, especially in terms of code flexibility and reusability."
   ]
  },
  {
   "cell_type": "code",
   "execution_count": 15,
   "id": "86485087-0473-4e54-8252-32f70e2d8f36",
   "metadata": {},
   "outputs": [],
   "source": [
    "#Flexibility:--\n",
    "#One of the primary advantages of composition over inheritance is that it provides greater flexibility in designing \n",
    "#and implementing software systems. With composition, we can create complex objects by combining simple objects in different ways,\n",
    "#depending on our needs. \n",
    "#This means that we can build more modular and reusable code that can adapt to different requirements without the need for \n",
    "#extensive modification.\n",
    "\n",
    "\n",
    "#Code Reusability:--\n",
    "#Another advantage of composition over inheritance is that it provides greater code reusability. \n",
    "#By using composition, we can create simple, reusable objects that can be combined to create more complex objects.\n",
    "#This means that we can avoid duplication of code, reduce the size of our codebase, and make our code more modular and maintainable.\n",
    "\n",
    "\n"
   ]
  },
  {
   "cell_type": "markdown",
   "id": "ce8d1725-c9a9-4614-ac91-a48d50ad33a2",
   "metadata": {},
   "source": [
    "     5. How can you implement composition in Python classes? Provide examples of using composition to create complex objects."
   ]
  },
  {
   "cell_type": "code",
   "execution_count": 21,
   "id": "90fa9bef-202e-4174-9c3d-c3bdf88ffd8f",
   "metadata": {},
   "outputs": [],
   "source": [
    "#By using the class names or by creating an object we can access the member of one class inside another class.\n",
    "#In these above example class Car has-A Engine class reference. Here inside class Car also we can create different variables and methods.\n",
    "#An object is a basic unit of Object-Oriented Programming and represents the real-life entities. \n",
    "#Complex objects are the objects that are built from smaller or a collection of objects. \n",
    "#For example, a mobile phone is made up of various objects like a camera, battery, screen, sensors, etc. \n",
    "#In this article, we will understand the use and implementation of a complex object. \n",
    "\n",
    "\n",
    "#class MarsRoverComp():\n",
    " #   def __init__(self, name, distance, maker):\n",
    " #       self.name = name # instantiating the base\n",
    "\n",
    " #       self.maker = maker\n",
    "\n",
    " #   def get_maker(self):\n",
    " #       return \"%s Launched by %s\" % (self.rocket.name, self.maker)\n",
    "\n",
    "\n",
    "#if __name__ == \"__main__\":\n",
    "#    z = MarsRoverComp(\"mars_rover2\", \"till Mars\", \"ISRO\")\n",
    "#    print(z.launch())\n",
    "#    print(z.get_maker())"
   ]
  },
  {
   "cell_type": "markdown",
   "id": "ff4ee508-bc5f-497b-9304-c2e058c2b29d",
   "metadata": {},
   "source": [
    "    6. Create a Python class hierarchy for a music player system, using composition to represent playlists and songs."
   ]
  },
  {
   "cell_type": "code",
   "execution_count": 4,
   "id": "b69b2faf-60f6-420e-9994-09188a70b8d0",
   "metadata": {},
   "outputs": [],
   "source": [
    "# Create a function to open a file\n",
    "def AddMusic():\n",
    "    path = filedialog.askdirectory()\n",
    "    if path:\n",
    "        os.chdir(path)\n",
    "        songs = os.listdir(path)\n",
    "\n",
    "        for song in songs:\n",
    "            if song.endswith(\".mp3\"):\n",
    "                Playlist.insert(END, song)\n",
    "\n",
    "\n",
    "def PlayMusic():\n",
    "    Music_Name = Playlist.get(ACTIVE)\n",
    "    print(Music_Name[0:-4])\n",
    "    mixer.music.load(Playlist.get(ACTIVE))\n",
    "    mixer.music.play()"
   ]
  },
  {
   "cell_type": "markdown",
   "id": "eab9e2f6-e2c8-426d-ba8b-d12d6955cc04",
   "metadata": {},
   "source": [
    "     7. Explain the concept of \"has-a\" relationships in composition and how it helps design software systems."
   ]
  },
  {
   "cell_type": "code",
   "execution_count": 9,
   "id": "d73c0c45-4924-4c71-847d-2217091e31c4",
   "metadata": {},
   "outputs": [],
   "source": [
    "#The composition can be defined as an association in which one class contains another class and this contained class depends on\n",
    "#the containing class in such a way that it cannot exist independently. We have seen an example of a has-a relationship above. \n",
    "#In that, we had a car object which has an engine\n"
   ]
  },
  {
   "cell_type": "markdown",
   "id": "b99ef6d2-2881-4ce6-8e2d-aad95721657e",
   "metadata": {},
   "source": [
    "    8. Create a Python class for a computer system, using composition to represent components like CPU, RAM, and storage devices."
   ]
  },
  {
   "cell_type": "code",
   "execution_count": 10,
   "id": "3661b7d5-abb3-4cf3-a42d-21108b49013a",
   "metadata": {},
   "outputs": [
    {
     "name": "stdout",
     "output_type": "stream",
     "text": [
      "RAM memory % used: 5.9\n",
      "RAM Used (GB): 13.739626496\n"
     ]
    }
   ],
   "source": [
    "# Importing the library\n",
    "import psutil\n",
    "\n",
    "# Getting % usage of virtual_memory ( 3rd field)\n",
    "print('RAM memory % used:', psutil.virtual_memory()[2])\n",
    "# Getting usage of virtual_memory in GB ( 4th field)\n",
    "print('RAM Used (GB):', psutil.virtual_memory()[3]/1000000000)\n"
   ]
  },
  {
   "cell_type": "markdown",
   "id": "9150c4bb-e017-4275-886c-db68d5874cb0",
   "metadata": {},
   "source": [
    "    9. Describe the concept of \"delegation\" in composition and how it simplifies the design of complex systems."
   ]
  },
  {
   "cell_type": "code",
   "execution_count": 11,
   "id": "cd2c990a-56b9-410c-9331-a32db1931f9a",
   "metadata": {},
   "outputs": [],
   "source": [
    "#Delegation is a design pattern in which an object, called the delegate, is responsible for performing certain tasks on behalf of another object,\n",
    "#called the delegator. This can be done by the delegator forwarding method calls and attribute access to the delegate.\n",
    "#In its most basic form, delegation can be implemented using the following approach: \n",
    "#the delegator passes requests for certain actions to the delegate, which then performs the actions on behalf of the delegator.\n",
    "#An object is a basic unit of Object-Oriented Programming and represents real-life entities.\n",
    "#Complex objects are objects that are built from smaller or a collection of objects. \n",
    "#For example, a mobile phone is made up of various objects like a camera, battery, screen, sensors, etc.\n",
    "#This process of building complex objects from simpler ones is called object composition.\n",
    "#In object-oriented programming languages, object composition is used for objects that have a “has-a” relationship with each other.\n",
    "#Therefore, the complex object is called the whole or a parent object whereas a simpler object is often referred to as a child object.\n"
   ]
  },
  {
   "cell_type": "markdown",
   "id": "c5eee3a5-db72-4176-95c5-6a9c2f9e8206",
   "metadata": {},
   "source": [
    "    10. Create a Python class for a car, using composition to represent components like the engine, wheels, and transmission."
   ]
  },
  {
   "cell_type": "code",
   "execution_count": 16,
   "id": "cc6711a8-9f78-4f57-805d-97c5504e90d4",
   "metadata": {},
   "outputs": [
    {
     "name": "stdout",
     "output_type": "stream",
     "text": [
      "Toyota Corolla (2023)\n",
      "The Toyota Corolla is driving.\n",
      "The Toyota Corolla is stopping.\n"
     ]
    }
   ],
   "source": [
    "class Car: \n",
    " \n",
    "    def __init__(self, make, model, year): \n",
    "        self.make = make \n",
    "        self.model = model \n",
    "        self.year = year \n",
    " \n",
    "    def __str__(self): \n",
    "        return f\"{self.make} {self.model} ({self.year})\" \n",
    " \n",
    "    def drive(self): \n",
    "        print(f\"The {self.make} {self.model} is driving.\") \n",
    " \n",
    "    def stop(self): \n",
    "        print(f\"The {self.make} {self.model} is stopping.\") \n",
    " \n",
    " \n",
    "my_car = Car(\"Toyota\", \"Corolla\", 2023) \n",
    " \n",
    "print(my_car) \n",
    "my_car.drive() \n",
    "\n",
    "my_car.stop() "
   ]
  },
  {
   "cell_type": "markdown",
   "id": "f43d69b9-4775-4d14-bc05-0d2ebb2439c1",
   "metadata": {},
   "source": [
    "     11. How can you encapsulate and hide the details of composed objects in Python classes to maintain abstraction?"
   ]
  },
  {
   "cell_type": "code",
   "execution_count": 17,
   "id": "584a36a8-3e96-4a89-84ec-73b772ea47ea",
   "metadata": {},
   "outputs": [],
   "source": [
    "#In Python, you can use encapsulation to hide data and behavior within objects, so that they can only be accessed through \n",
    "#the object’s public interface. This is achieved using private and protected access modifiers.\n",
    "#In Python, you can use a single underscore (_) before the name of a property or method to indicate that it should be treated as protected. \n",
    "#Protected properties and methods can be accessed from within the class and its subclasses, but not from outside the class.\n",
    "\n",
    "#You can use two underscores (__) before the name of a property or method to indicate that it should be treated as private.\n",
    "#Private properties and methods can only be accessed from within the class.\n",
    "\n",
    "\n",
    "#Encapsulation in Python refers to the practice of wrapping data and methods within a single unit, typically a class,\n",
    "#and restricting access to the internal components from outside the unit. \n",
    "#Encapsulation is one of the fundamental concepts of object-oriented programming (OOP) and is essential for creating robust, \n",
    "#secure, and maintainable code."
   ]
  },
  {
   "cell_type": "markdown",
   "id": "7f2b145e-e8d9-428f-90dc-60957aaa2d01",
   "metadata": {},
   "source": [
    "    12. Create a Python class for a university course, using composition to represent students, instructors, and course materials."
   ]
  },
  {
   "cell_type": "code",
   "execution_count": null,
   "id": "13cb322f-9047-41ed-9ba9-1375c717dc2c",
   "metadata": {},
   "outputs": [],
   "source": []
  },
  {
   "cell_type": "markdown",
   "id": "5a456614-51b7-4f12-a133-bf275000e28a",
   "metadata": {},
   "source": [
    "     13. Discuss the challenges and drawbacks of composition, such as increased complexity and potential for tight coupling between objects."
   ]
  },
  {
   "cell_type": "code",
   "execution_count": 18,
   "id": "b4978929-6555-4512-80e3-f49b73eb683b",
   "metadata": {},
   "outputs": [],
   "source": [
    "#Tight and loose coupling are terms used to describe the relationship between components of an application.\n",
    "#In tight coupling, the components of a system are highly dependent on each other. \n",
    "#If one component fails, it will also affect the others and eventually bring down the entire system. \n",
    "#This creates inflexibility issues since any modifications to one component may require modifications to others.\n",
    "#This can make the system difficult to scale and maintain.  \n",
    "\n",
    "#In a loosely coupled system, the components are independent of each other.\n",
    "#Each component has its own well-defined interface and communicates with other components through standardized protocols. \n",
    "#Changes to one component do not require changes to other components, making the system more flexible and easier to maintain. \n",
    "#The only caveat here is the increased complexity of handling multiple resources especially for a large application. \n",
    "#Loose coupling is increasingly becoming popular with the rise of modern technologies such as microservices, containers, and APIs."
   ]
  },
  {
   "cell_type": "markdown",
   "id": "7904e992-d15b-4700-824e-0f32c3e9f836",
   "metadata": {},
   "source": [
    "    14. Create a Python class hierarchy for a restaurant system, using composition to represent menus, dishes, and ingredients."
   ]
  },
  {
   "cell_type": "code",
   "execution_count": 22,
   "id": "134d5e65-7669-4c2c-bf8a-16329d7e70d2",
   "metadata": {},
   "outputs": [],
   "source": [
    "class Restaurant:\n",
    "    def __init__(self):\n",
    "        self.menu_items = {}\n",
    "        self.book_table = []\n",
    "        self.customer_orders = []\n",
    "\n",
    "    def add_item_to_menu(self, item, price):\n",
    "        self.menu_items[item] = price\n",
    "\n",
    "    def book_tables(self, table_number):\n",
    "        self.book_table.append(table_number)\n",
    "\n",
    "    def customer_order(self, table_number, order):\n",
    "        order_details = {'table_number': table_number, 'order': order}\n",
    "        self.customer_orders.append(order_details)\n",
    "\n",
    "    def print_menu_items(self):\n",
    "        for item, price in self.menu_items.items():\n",
    "            print(\"{}: {}\".format(item, price))\n",
    "\n",
    "    def print_table_reservations(self):\n",
    "        for table in self.book_table:\n",
    "            print(\"Table {}\".format(table))\n",
    "\n",
    "    def print_customer_orders(self):\n",
    "        for order in self.customer_orders:\n",
    "            print(\"Table {}: {}\".format(order['table_number'], order['order']))\n",
    "\n",
    "s1 = Restaurant()\n"
   ]
  },
  {
   "cell_type": "markdown",
   "id": "48c5ef9d-224e-4b4e-b3eb-a4c05ed6b217",
   "metadata": {},
   "source": [
    "       15. Explain how composition enhances code maintainability and modularity in Python programs."
   ]
  },
  {
   "cell_type": "code",
   "execution_count": 23,
   "id": "f2f7d602-3f8b-4243-bcfb-22ef1adc710e",
   "metadata": {},
   "outputs": [],
   "source": [
    "#The module simply means the software components that are been created by dividing the software. \n",
    "#The software is divided into various components that work together to form a single functioning item but sometimes \n",
    "#they can perform as a complete function if not connected with each other. \n",
    "#This process of creating software modules is known as Modularity in software engineering.\n",
    "#It simply measures the degree to which these components are made up than can be combined. \n",
    "#Some of the projects or software designs are very complex that it’s not easy to understand its working and functioning. \n",
    "#In such cases, modularity is a key weapon that helps in reducing the complexity of such software or projects.\n",
    "#The basic principle of Modularity is that “Systems should be built from cohesive, loosely coupled components (modules)” \n",
    "#which means s system should be made up of different components that are united and work together in an efficient way and \n",
    "#such components have a well-defined function. To define a modular system, several properties or criteria are there under \n",
    "#which we can evaluate a design method while considering its abilities. These criteria are defined by Meyer.\n"
   ]
  },
  {
   "cell_type": "markdown",
   "id": "6b33e799-43ad-4b1c-acd9-2a372d825e50",
   "metadata": {},
   "source": [
    "    16. Create a Python class for a computer game character, using composition to represent attributes like weapons, armor, and inventory."
   ]
  },
  {
   "cell_type": "code",
   "execution_count": 28,
   "id": "cb6cc111-11b7-4081-8d39-a27a0df0faf6",
   "metadata": {},
   "outputs": [],
   "source": [
    "class Inventory:\n",
    "\n",
    "    equipmentSlot = {'head':None, 'chest':None,\n",
    "                     'legs':None, 'hands':None,\n",
    "                     'feet':None, 'shield':None,\n",
    "                     'finger':None, 'neck':None,\n",
    "                     'weapon1':None, 'weapon2':None}\n",
    "    \n",
    "\n",
    "    def __init__(self):\n",
    "\n",
    "        self.inv = []\n",
    "\n",
    "    \n",
    "    def addItem(self, item):\n",
    "\n",
    "        self.inv.append(item)\n",
    "\n",
    "\n",
    "    def removeItem(self, item):\n",
    "\n",
    "        self.inv.remove(item)\n",
    "\n",
    "\n",
    "    def equipItem(self, item):\n",
    "\n",
    "        if item.slot == 'Weapon1':\n",
    "            if self.equipmentSlot['weapon1'] is not None:\n",
    "                self.weapon1 = 0    # self.weapon1 is supposed to be item.damage\n",
    "                self.addItem(self.equipmentSlot['weapon1'])\n",
    "            self.equipmentSlot['weapon1'] = item.name\n",
    "            self.removeItem(item.name)\n",
    "            self.weapon1 = item.damage\n",
    "\n",
    "        # Other equipment slots here\n",
    "\n",
    "\n",
    "    def unequipItem(self, item):\n",
    "\n",
    "        if self.equipmentSlot['weapon1']:\n",
    "            self.addItem(self.equipmentSlot['weapon1'])\n",
    "            self.equipmentSlot['weapon1'] = None\n",
    "            self.weapon1 = 0\n",
    "\n",
    "\n",
    "    def calculateTotals(self):\n",
    "\n",
    "        \"\"\"\n",
    "        This is wear I have no idea anymore.\n",
    "        I have tried so many things, including making\n",
    "        self.weapon1 = self.equipmentSlot['weapon1']\n",
    "        but that is only the object.name, not object.damage,\n",
    "        so it doesn't really do any good.\n",
    "        \"\"\"\n",
    "\n",
    "        self.totalDefense = something\n",
    "        self.totalDamage = something\n",
    "\n",
    "        return (self.totalDefense, self.totalDamage)"
   ]
  },
  {
   "cell_type": "markdown",
   "id": "ef334613-ac26-4304-bb85-6c5b1f602017",
   "metadata": {},
   "source": [
    "    17. Describe the concept of \"aggregation\" in composition and how it differs from simple composition."
   ]
  },
  {
   "cell_type": "code",
   "execution_count": 29,
   "id": "fe062846-8c10-4e9f-9dee-f751a9043908",
   "metadata": {},
   "outputs": [],
   "source": [
    "#The question \"What is the difference between association, aggregation, and composition\" has been frequently asked lately.\n",
    "\n",
    "#Aggregation and Composition are subsets of association meaning they are specific cases of association. In both aggregation and\n",
    "#composition object of one class \"owns\" object of another class. But there is a subtle difference:\n",
    "\n",
    "#Aggregation implies a relationship where the child can exist independently of the parent.\n",
    "#Example: Class (parent) and Student (child). Delete the Class and the Students still exist.\n",
    "#Composition implies a relationship where the child cannot exist independent of the parent.\n",
    "#Example: House (parent) and Room (child). Rooms don't exist separate to a House."
   ]
  },
  {
   "cell_type": "markdown",
   "id": "890b5f65-1b19-42e2-baaa-d50a09994ae9",
   "metadata": {
    "tags": []
   },
   "source": [
    "    18. Create a Python class for a house, using composition to represent rooms, furniture, and appliances."
   ]
  },
  {
   "cell_type": "code",
   "execution_count": null,
   "id": "8d1e5004-8b31-4a8c-9d14-855ed2dd923f",
   "metadata": {},
   "outputs": [],
   "source": []
  },
  {
   "cell_type": "markdown",
   "id": "71b6c891-879d-4137-a617-fac6dc956de2",
   "metadata": {},
   "source": [
    "    19. How can you achieve flexibility in composed objects by allowing them to be replaced or modified dynamically at runtime?"
   ]
  },
  {
   "cell_type": "code",
   "execution_count": 33,
   "id": "05d7e4cf-b134-4853-a801-de69f6921d88",
   "metadata": {},
   "outputs": [],
   "source": [
    "#This article has a snippet showing usage of __bases__ to dynamically change the inheritance hierarchy of some Python code,\n",
    "#by adding a class to an existing classes collection of classes from which it inherits. Ok, that's hard to read, code is probably clearer:\n",
    "\n",
    "#class Friendly:\n",
    " #   def hello(self):\n",
    "  #      print ('Hello')\n",
    "\n",
    "#class Person: \n",
    "#    pass\n",
    "\n",
    "#p = Person()\n",
    "#Person.__bases__ = (Friendly)\n",
    "#p.hello()  # prints \"Hello\"\n",
    "#That is, Person doesn't inherit from Friendly at the source level, but rather this inheritance relation is added \n",
    "#dynamically at runtime by modification of the __bases__attribute of the Person class. However, if you change Friendly \n",
    "#and Person to be new style classes (by inheriting from object), you get the following error:\n",
    "\n",
    "#TypeError: __bases__ assignment: 'Friendly' deallocator differs from 'object'"
   ]
  },
  {
   "cell_type": "markdown",
   "id": "7a8ea2e3-32c6-4355-9948-d43713a4c677",
   "metadata": {},
   "source": [
    "    20. Create a Python class for a social media application, using composition to represent users, posts, and comments."
   ]
  },
  {
   "cell_type": "code",
   "execution_count": null,
   "id": "0015d967-36cf-4d6b-b361-1166e81eb457",
   "metadata": {},
   "outputs": [],
   "source": []
  }
 ],
 "metadata": {
  "kernelspec": {
   "display_name": "Python 3 (ipykernel)",
   "language": "python",
   "name": "python3"
  },
  "language_info": {
   "codemirror_mode": {
    "name": "ipython",
    "version": 3
   },
   "file_extension": ".py",
   "mimetype": "text/x-python",
   "name": "python",
   "nbconvert_exporter": "python",
   "pygments_lexer": "ipython3",
   "version": "3.10.8"
  }
 },
 "nbformat": 4,
 "nbformat_minor": 5
}
